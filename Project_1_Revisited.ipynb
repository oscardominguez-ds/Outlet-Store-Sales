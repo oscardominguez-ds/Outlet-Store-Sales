{
 "cells": [
  {
   "cell_type": "markdown",
   "metadata": {},
   "source": [
    "# Oscar Dominguez\n",
    "# Date - 5/26\n",
    "# Project 1 Revisited\n",
    "\n",
    "Project 1 Revisited - Part 1: Remaking, Saving, and Explaining Your Models\n",
    "\n",
    "For this part of the project, you will be producing a new version of your final project notebook using the updated tools in sklearn v1.1. \n",
    "\n",
    "- Create a new notebook called \"Project 1 - Revisited.ipynb\" in your project repo.\n",
    "    - You may either make a copy of your prior notebook that you will modify, \n",
    "or you can start a new blank notebook and copy over the code from your old notebook (as needed).\n",
    "\n",
    "- Remake your X_train and X_test as DataFrames with the feature names extracted from the column transformer instead of combining your preprocessor and model into 1 pipeline.\n",
    "\n",
    "**LinearRegression**\n",
    "- Fit and evaluate your LinearRegresion model using your dataframe X_train and X_test data.\n",
    "- Extract and visualize the coefficients that your model determined.\n",
    "- Select the top 3 most impactful features and interpret their coefficients in plain English.\n",
    "- Save your figure as a .png file inside your repository (you will need this for the final piece of this assignment - Update Your README).\n",
    "\n",
    "**Tree-Based Model**\n",
    "- Fit and evaluate your tree-based regression model using your dataframe X_train and X_test data.\n",
    "- Extract and visualize the feature importances that your model determined.\n",
    "- Identify the top 5 most important features.\n",
    "- Save your figure as a .png file inside your repository  (you will need this for the final piece of this assignment - Update Your README).\n",
    "\n",
    "## Data dictionary -\n",
    "\n",
    "<img src='Data/data_dictionary.png' width=\"500\" height=\"600\">\n"
   ]
  },
  {
   "cell_type": "code",
   "execution_count": 1,
   "metadata": {
    "id": "AzIGopYuqaPE"
   },
   "outputs": [],
   "source": [
    "## Pandas\n",
    "import pandas as pd\n",
    "## Numpy\n",
    "import numpy as np\n",
    "\n",
    "## Preprocessing\n",
    "from sklearn.model_selection import train_test_split\n",
    "from sklearn.compose import make_column_selector\n",
    "from sklearn.preprocessing import StandardScaler, OneHotEncoder\n",
    "from sklearn.pipeline import make_pipeline\n",
    "from sklearn.compose import make_column_transformer\n",
    "from sklearn.impute import SimpleImputer\n",
    "\n",
    "## Models\n",
    "from sklearn.linear_model import LinearRegression\n",
    "from sklearn.tree import DecisionTreeRegressor\n",
    "\n",
    "## Regression Metrics\n",
    "from sklearn.metrics import r2_score, mean_absolute_error, mean_squared_error\n",
    "\n",
    "## Set global scikit-learn configuration \n",
    "from sklearn import set_config\n",
    "## Display estimators as a diagram\n",
    "set_config(display='diagram') # 'text' or 'diagram'}\n"
   ]
  },
  {
   "cell_type": "code",
   "execution_count": 2,
   "metadata": {
    "colab": {
     "base_uri": "https://localhost:8080/",
     "height": 357
    },
    "id": "ijtL9d7AqqRJ",
    "outputId": "33ccc702-b728-4e68-da79-6af185dea978"
   },
   "outputs": [
    {
     "data": {
      "text/html": [
       "<div>\n",
       "<style scoped>\n",
       "    .dataframe tbody tr th:only-of-type {\n",
       "        vertical-align: middle;\n",
       "    }\n",
       "\n",
       "    .dataframe tbody tr th {\n",
       "        vertical-align: top;\n",
       "    }\n",
       "\n",
       "    .dataframe thead th {\n",
       "        text-align: right;\n",
       "    }\n",
       "</style>\n",
       "<table border=\"1\" class=\"dataframe\">\n",
       "  <thead>\n",
       "    <tr style=\"text-align: right;\">\n",
       "      <th></th>\n",
       "      <th>Item_Identifier</th>\n",
       "      <th>Item_Weight</th>\n",
       "      <th>Item_Fat_Content</th>\n",
       "      <th>Item_Visibility</th>\n",
       "      <th>Item_Type</th>\n",
       "      <th>Item_MRP</th>\n",
       "      <th>Outlet_Identifier</th>\n",
       "      <th>Outlet_Establishment_Year</th>\n",
       "      <th>Outlet_Size</th>\n",
       "      <th>Outlet_Location_Type</th>\n",
       "      <th>Outlet_Type</th>\n",
       "      <th>Item_Outlet_Sales</th>\n",
       "    </tr>\n",
       "  </thead>\n",
       "  <tbody>\n",
       "    <tr>\n",
       "      <th>0</th>\n",
       "      <td>FDA15</td>\n",
       "      <td>9.30</td>\n",
       "      <td>Low Fat</td>\n",
       "      <td>0.016047</td>\n",
       "      <td>Dairy</td>\n",
       "      <td>249.8092</td>\n",
       "      <td>OUT049</td>\n",
       "      <td>1999</td>\n",
       "      <td>Medium</td>\n",
       "      <td>Tier 1</td>\n",
       "      <td>Supermarket Type1</td>\n",
       "      <td>3735.1380</td>\n",
       "    </tr>\n",
       "    <tr>\n",
       "      <th>1</th>\n",
       "      <td>DRC01</td>\n",
       "      <td>5.92</td>\n",
       "      <td>Regular</td>\n",
       "      <td>0.019278</td>\n",
       "      <td>Soft Drinks</td>\n",
       "      <td>48.2692</td>\n",
       "      <td>OUT018</td>\n",
       "      <td>2009</td>\n",
       "      <td>Medium</td>\n",
       "      <td>Tier 3</td>\n",
       "      <td>Supermarket Type2</td>\n",
       "      <td>443.4228</td>\n",
       "    </tr>\n",
       "    <tr>\n",
       "      <th>2</th>\n",
       "      <td>FDN15</td>\n",
       "      <td>17.50</td>\n",
       "      <td>Low Fat</td>\n",
       "      <td>0.016760</td>\n",
       "      <td>Meat</td>\n",
       "      <td>141.6180</td>\n",
       "      <td>OUT049</td>\n",
       "      <td>1999</td>\n",
       "      <td>Medium</td>\n",
       "      <td>Tier 1</td>\n",
       "      <td>Supermarket Type1</td>\n",
       "      <td>2097.2700</td>\n",
       "    </tr>\n",
       "    <tr>\n",
       "      <th>3</th>\n",
       "      <td>FDX07</td>\n",
       "      <td>19.20</td>\n",
       "      <td>Regular</td>\n",
       "      <td>0.000000</td>\n",
       "      <td>Fruits and Vegetables</td>\n",
       "      <td>182.0950</td>\n",
       "      <td>OUT010</td>\n",
       "      <td>1998</td>\n",
       "      <td>NaN</td>\n",
       "      <td>Tier 3</td>\n",
       "      <td>Grocery Store</td>\n",
       "      <td>732.3800</td>\n",
       "    </tr>\n",
       "    <tr>\n",
       "      <th>4</th>\n",
       "      <td>NCD19</td>\n",
       "      <td>8.93</td>\n",
       "      <td>Low Fat</td>\n",
       "      <td>0.000000</td>\n",
       "      <td>Household</td>\n",
       "      <td>53.8614</td>\n",
       "      <td>OUT013</td>\n",
       "      <td>1987</td>\n",
       "      <td>High</td>\n",
       "      <td>Tier 3</td>\n",
       "      <td>Supermarket Type1</td>\n",
       "      <td>994.7052</td>\n",
       "    </tr>\n",
       "  </tbody>\n",
       "</table>\n",
       "</div>"
      ],
      "text/plain": [
       "  Item_Identifier  Item_Weight Item_Fat_Content  Item_Visibility  \\\n",
       "0           FDA15         9.30          Low Fat         0.016047   \n",
       "1           DRC01         5.92          Regular         0.019278   \n",
       "2           FDN15        17.50          Low Fat         0.016760   \n",
       "3           FDX07        19.20          Regular         0.000000   \n",
       "4           NCD19         8.93          Low Fat         0.000000   \n",
       "\n",
       "               Item_Type  Item_MRP Outlet_Identifier  \\\n",
       "0                  Dairy  249.8092            OUT049   \n",
       "1            Soft Drinks   48.2692            OUT018   \n",
       "2                   Meat  141.6180            OUT049   \n",
       "3  Fruits and Vegetables  182.0950            OUT010   \n",
       "4              Household   53.8614            OUT013   \n",
       "\n",
       "   Outlet_Establishment_Year Outlet_Size Outlet_Location_Type  \\\n",
       "0                       1999      Medium               Tier 1   \n",
       "1                       2009      Medium               Tier 3   \n",
       "2                       1999      Medium               Tier 1   \n",
       "3                       1998         NaN               Tier 3   \n",
       "4                       1987        High               Tier 3   \n",
       "\n",
       "         Outlet_Type  Item_Outlet_Sales  \n",
       "0  Supermarket Type1          3735.1380  \n",
       "1  Supermarket Type2           443.4228  \n",
       "2  Supermarket Type1          2097.2700  \n",
       "3      Grocery Store           732.3800  \n",
       "4  Supermarket Type1           994.7052  "
      ]
     },
     "execution_count": 2,
     "metadata": {},
     "output_type": "execute_result"
    }
   ],
   "source": [
    "path = 'Data/sales_predictions_2023.csv'\n",
    "\n",
    "df = pd.read_csv(path)\n",
    "df.head()"
   ]
  },
  {
   "cell_type": "code",
   "execution_count": 3,
   "metadata": {
    "colab": {
     "base_uri": "https://localhost:8080/"
    },
    "id": "iXyKwT99r6s1",
    "outputId": "1df46be1-fa7b-4990-85e2-b82a74381251"
   },
   "outputs": [
    {
     "name": "stdout",
     "output_type": "stream",
     "text": [
      "<class 'pandas.core.frame.DataFrame'>\n",
      "RangeIndex: 8523 entries, 0 to 8522\n",
      "Data columns (total 12 columns):\n",
      " #   Column                     Non-Null Count  Dtype  \n",
      "---  ------                     --------------  -----  \n",
      " 0   Item_Identifier            8523 non-null   object \n",
      " 1   Item_Weight                7060 non-null   float64\n",
      " 2   Item_Fat_Content           8523 non-null   object \n",
      " 3   Item_Visibility            8523 non-null   float64\n",
      " 4   Item_Type                  8523 non-null   object \n",
      " 5   Item_MRP                   8523 non-null   float64\n",
      " 6   Outlet_Identifier          8523 non-null   object \n",
      " 7   Outlet_Establishment_Year  8523 non-null   int64  \n",
      " 8   Outlet_Size                6113 non-null   object \n",
      " 9   Outlet_Location_Type       8523 non-null   object \n",
      " 10  Outlet_Type                8523 non-null   object \n",
      " 11  Item_Outlet_Sales          8523 non-null   float64\n",
      "dtypes: float64(4), int64(1), object(7)\n",
      "memory usage: 799.2+ KB\n"
     ]
    }
   ],
   "source": [
    "# Getting info\n",
    "df.info()"
   ]
  },
  {
   "cell_type": "code",
   "execution_count": 4,
   "metadata": {
    "colab": {
     "base_uri": "https://localhost:8080/"
    },
    "id": "yXt0Zw5DqqsY",
    "outputId": "b066e4a0-1324-4ec0-a331-efa5c4ad4dc7"
   },
   "outputs": [
    {
     "data": {
      "text/plain": [
       "0"
      ]
     },
     "execution_count": 4,
     "metadata": {},
     "output_type": "execute_result"
    }
   ],
   "source": [
    "# Checking for Duplicates\n",
    "df.duplicated().sum()"
   ]
  },
  {
   "cell_type": "code",
   "execution_count": 5,
   "metadata": {
    "colab": {
     "base_uri": "https://localhost:8080/"
    },
    "id": "CvU90oFKr2tz",
    "outputId": "4b58c0c3-09a5-459d-d4cf-d72b80fe8c4a"
   },
   "outputs": [
    {
     "data": {
      "text/plain": [
       "Item_Identifier                 0\n",
       "Item_Weight                  1463\n",
       "Item_Fat_Content                0\n",
       "Item_Visibility                 0\n",
       "Item_Type                       0\n",
       "Item_MRP                        0\n",
       "Outlet_Identifier               0\n",
       "Outlet_Establishment_Year       0\n",
       "Outlet_Size                  2410\n",
       "Outlet_Location_Type            0\n",
       "Outlet_Type                     0\n",
       "Item_Outlet_Sales               0\n",
       "dtype: int64"
      ]
     },
     "execution_count": 5,
     "metadata": {},
     "output_type": "execute_result"
    }
   ],
   "source": [
    "# Checking missing values\n",
    "df.isna().sum()"
   ]
  },
  {
   "cell_type": "code",
   "execution_count": 6,
   "metadata": {
    "colab": {
     "base_uri": "https://localhost:8080/",
     "height": 661
    },
    "id": "jNXA-D-Hs9AG",
    "outputId": "8f4370b5-2e17-4e7b-c64c-fff820258e0c"
   },
   "outputs": [
    {
     "data": {
      "text/html": [
       "<div>\n",
       "<style scoped>\n",
       "    .dataframe tbody tr th:only-of-type {\n",
       "        vertical-align: middle;\n",
       "    }\n",
       "\n",
       "    .dataframe tbody tr th {\n",
       "        vertical-align: top;\n",
       "    }\n",
       "\n",
       "    .dataframe thead th {\n",
       "        text-align: right;\n",
       "    }\n",
       "</style>\n",
       "<table border=\"1\" class=\"dataframe\">\n",
       "  <thead>\n",
       "    <tr style=\"text-align: right;\">\n",
       "      <th></th>\n",
       "      <th>Item_Weight</th>\n",
       "      <th>Item_Fat_Content</th>\n",
       "      <th>Item_Visibility</th>\n",
       "      <th>Item_Type</th>\n",
       "      <th>Item_MRP</th>\n",
       "      <th>Outlet_Size</th>\n",
       "      <th>Outlet_Location_Type</th>\n",
       "      <th>Outlet_Type</th>\n",
       "    </tr>\n",
       "  </thead>\n",
       "  <tbody>\n",
       "    <tr>\n",
       "      <th>0</th>\n",
       "      <td>9.300</td>\n",
       "      <td>Low Fat</td>\n",
       "      <td>0.016047</td>\n",
       "      <td>Dairy</td>\n",
       "      <td>249.8092</td>\n",
       "      <td>Medium</td>\n",
       "      <td>Tier 1</td>\n",
       "      <td>Supermarket Type1</td>\n",
       "    </tr>\n",
       "    <tr>\n",
       "      <th>1</th>\n",
       "      <td>5.920</td>\n",
       "      <td>Regular</td>\n",
       "      <td>0.019278</td>\n",
       "      <td>Soft Drinks</td>\n",
       "      <td>48.2692</td>\n",
       "      <td>Medium</td>\n",
       "      <td>Tier 3</td>\n",
       "      <td>Supermarket Type2</td>\n",
       "    </tr>\n",
       "    <tr>\n",
       "      <th>2</th>\n",
       "      <td>17.500</td>\n",
       "      <td>Low Fat</td>\n",
       "      <td>0.016760</td>\n",
       "      <td>Meat</td>\n",
       "      <td>141.6180</td>\n",
       "      <td>Medium</td>\n",
       "      <td>Tier 1</td>\n",
       "      <td>Supermarket Type1</td>\n",
       "    </tr>\n",
       "    <tr>\n",
       "      <th>3</th>\n",
       "      <td>19.200</td>\n",
       "      <td>Regular</td>\n",
       "      <td>0.000000</td>\n",
       "      <td>Fruits and Vegetables</td>\n",
       "      <td>182.0950</td>\n",
       "      <td>NaN</td>\n",
       "      <td>Tier 3</td>\n",
       "      <td>Grocery Store</td>\n",
       "    </tr>\n",
       "    <tr>\n",
       "      <th>4</th>\n",
       "      <td>8.930</td>\n",
       "      <td>Low Fat</td>\n",
       "      <td>0.000000</td>\n",
       "      <td>Household</td>\n",
       "      <td>53.8614</td>\n",
       "      <td>High</td>\n",
       "      <td>Tier 3</td>\n",
       "      <td>Supermarket Type1</td>\n",
       "    </tr>\n",
       "    <tr>\n",
       "      <th>...</th>\n",
       "      <td>...</td>\n",
       "      <td>...</td>\n",
       "      <td>...</td>\n",
       "      <td>...</td>\n",
       "      <td>...</td>\n",
       "      <td>...</td>\n",
       "      <td>...</td>\n",
       "      <td>...</td>\n",
       "    </tr>\n",
       "    <tr>\n",
       "      <th>8518</th>\n",
       "      <td>6.865</td>\n",
       "      <td>Low Fat</td>\n",
       "      <td>0.056783</td>\n",
       "      <td>Snack Foods</td>\n",
       "      <td>214.5218</td>\n",
       "      <td>High</td>\n",
       "      <td>Tier 3</td>\n",
       "      <td>Supermarket Type1</td>\n",
       "    </tr>\n",
       "    <tr>\n",
       "      <th>8519</th>\n",
       "      <td>8.380</td>\n",
       "      <td>Regular</td>\n",
       "      <td>0.046982</td>\n",
       "      <td>Baking Goods</td>\n",
       "      <td>108.1570</td>\n",
       "      <td>NaN</td>\n",
       "      <td>Tier 2</td>\n",
       "      <td>Supermarket Type1</td>\n",
       "    </tr>\n",
       "    <tr>\n",
       "      <th>8520</th>\n",
       "      <td>10.600</td>\n",
       "      <td>Low Fat</td>\n",
       "      <td>0.035186</td>\n",
       "      <td>Health and Hygiene</td>\n",
       "      <td>85.1224</td>\n",
       "      <td>Small</td>\n",
       "      <td>Tier 2</td>\n",
       "      <td>Supermarket Type1</td>\n",
       "    </tr>\n",
       "    <tr>\n",
       "      <th>8521</th>\n",
       "      <td>7.210</td>\n",
       "      <td>Regular</td>\n",
       "      <td>0.145221</td>\n",
       "      <td>Snack Foods</td>\n",
       "      <td>103.1332</td>\n",
       "      <td>Medium</td>\n",
       "      <td>Tier 3</td>\n",
       "      <td>Supermarket Type2</td>\n",
       "    </tr>\n",
       "    <tr>\n",
       "      <th>8522</th>\n",
       "      <td>14.800</td>\n",
       "      <td>Low Fat</td>\n",
       "      <td>0.044878</td>\n",
       "      <td>Soft Drinks</td>\n",
       "      <td>75.4670</td>\n",
       "      <td>Small</td>\n",
       "      <td>Tier 1</td>\n",
       "      <td>Supermarket Type1</td>\n",
       "    </tr>\n",
       "  </tbody>\n",
       "</table>\n",
       "<p>8523 rows × 8 columns</p>\n",
       "</div>"
      ],
      "text/plain": [
       "      Item_Weight Item_Fat_Content  Item_Visibility              Item_Type  \\\n",
       "0           9.300          Low Fat         0.016047                  Dairy   \n",
       "1           5.920          Regular         0.019278            Soft Drinks   \n",
       "2          17.500          Low Fat         0.016760                   Meat   \n",
       "3          19.200          Regular         0.000000  Fruits and Vegetables   \n",
       "4           8.930          Low Fat         0.000000              Household   \n",
       "...           ...              ...              ...                    ...   \n",
       "8518        6.865          Low Fat         0.056783            Snack Foods   \n",
       "8519        8.380          Regular         0.046982           Baking Goods   \n",
       "8520       10.600          Low Fat         0.035186     Health and Hygiene   \n",
       "8521        7.210          Regular         0.145221            Snack Foods   \n",
       "8522       14.800          Low Fat         0.044878            Soft Drinks   \n",
       "\n",
       "      Item_MRP Outlet_Size Outlet_Location_Type        Outlet_Type  \n",
       "0     249.8092      Medium               Tier 1  Supermarket Type1  \n",
       "1      48.2692      Medium               Tier 3  Supermarket Type2  \n",
       "2     141.6180      Medium               Tier 1  Supermarket Type1  \n",
       "3     182.0950         NaN               Tier 3      Grocery Store  \n",
       "4      53.8614        High               Tier 3  Supermarket Type1  \n",
       "...        ...         ...                  ...                ...  \n",
       "8518  214.5218        High               Tier 3  Supermarket Type1  \n",
       "8519  108.1570         NaN               Tier 2  Supermarket Type1  \n",
       "8520   85.1224       Small               Tier 2  Supermarket Type1  \n",
       "8521  103.1332      Medium               Tier 3  Supermarket Type2  \n",
       "8522   75.4670       Small               Tier 1  Supermarket Type1  \n",
       "\n",
       "[8523 rows x 8 columns]"
      ]
     },
     "execution_count": 6,
     "metadata": {},
     "output_type": "execute_result"
    }
   ],
   "source": [
    "# -Identify the features (X) and target (y): Assign the \"Item_Outlet_Sales\" column as your target and the rest of the relevant variables as your features matrix.\n",
    "# -Perform a train test split\n",
    "y = df['Item_Outlet_Sales'].copy() \n",
    "X = df.drop(columns=['Item_Outlet_Sales', 'Item_Identifier', 'Outlet_Identifier', 'Outlet_Establishment_Year']).copy() \n",
    "X"
   ]
  },
  {
   "cell_type": "code",
   "execution_count": 7,
   "metadata": {
    "colab": {
     "base_uri": "https://localhost:8080/"
    },
    "id": "1aVcCEspTECn",
    "outputId": "96e8a2f5-bc84-47c2-da3d-e8490a5f9bf7"
   },
   "outputs": [
    {
     "data": {
      "text/plain": [
       "1.0    2793\n",
       "0.0    2388\n",
       "2.0     932\n",
       "Name: Outlet_Size, dtype: int64"
      ]
     },
     "execution_count": 7,
     "metadata": {},
     "output_type": "execute_result"
    }
   ],
   "source": [
    "df['Outlet_Size'].value_counts()\n",
    "# Ordinal Encoding 'Outlet_Size'\n",
    "replacement_dictionary = {'High':2, 'Medium':1, 'Small':0}\n",
    "df['Outlet_Size'].replace(replacement_dictionary, inplace=True)\n",
    "df['Outlet_Size'].value_counts()"
   ]
  },
  {
   "cell_type": "code",
   "execution_count": 8,
   "metadata": {
    "id": "6Ky4Wz8oTDix"
   },
   "outputs": [],
   "source": [
    "#Ordinal encoding Item_Fat_Content\n",
    "df['Item_Fat_Content'].replace({'low fat':0,'LF':0,'Low Fat':0,'reg':1,'Regular':1},inplace=True)"
   ]
  },
  {
   "cell_type": "code",
   "execution_count": 9,
   "metadata": {
    "id": "0ZjXkfL3tIYM"
   },
   "outputs": [],
   "source": [
    "# -Perform a train test split\n",
    "X_train, X_test, y_train, y_test = train_test_split(X, y, random_state=42)\n"
   ]
  },
  {
   "cell_type": "code",
   "execution_count": 10,
   "metadata": {
    "colab": {
     "base_uri": "https://localhost:8080/",
     "height": 294
    },
    "id": "Kptl1PCktVVR",
    "outputId": "5e6126ba-58b9-49c8-a5ea-59b2ebe6f8c7"
   },
   "outputs": [
    {
     "name": "stdout",
     "output_type": "stream",
     "text": [
      "<class 'pandas.core.frame.DataFrame'>\n",
      "Int64Index: 6392 entries, 4776 to 7270\n",
      "Data columns (total 8 columns):\n",
      " #   Column                Non-Null Count  Dtype  \n",
      "---  ------                --------------  -----  \n",
      " 0   Item_Weight           5285 non-null   float64\n",
      " 1   Item_Fat_Content      6392 non-null   object \n",
      " 2   Item_Visibility       6392 non-null   float64\n",
      " 3   Item_Type             6392 non-null   object \n",
      " 4   Item_MRP              6392 non-null   float64\n",
      " 5   Outlet_Size           4580 non-null   object \n",
      " 6   Outlet_Location_Type  6392 non-null   object \n",
      " 7   Outlet_Type           6392 non-null   object \n",
      "dtypes: float64(3), object(5)\n",
      "memory usage: 449.4+ KB\n"
     ]
    },
    {
     "data": {
      "text/plain": [
       "None"
      ]
     },
     "metadata": {},
     "output_type": "display_data"
    }
   ],
   "source": [
    "# -Create a preprocessing object to prepare the dataset for Machine Learning\n",
    "# -Make sure your imputation of missing values occurs after the train test split using SimpleImputer.\n",
    "display(X_train.info())"
   ]
  },
  {
   "cell_type": "code",
   "execution_count": 11,
   "metadata": {
    "colab": {
     "base_uri": "https://localhost:8080/",
     "height": 424
    },
    "id": "kxFPOsuXtzNM",
    "outputId": "316ef0eb-b622-41b6-d48c-76529abbd7e5"
   },
   "outputs": [
    {
     "data": {
      "text/html": [
       "<div>\n",
       "<style scoped>\n",
       "    .dataframe tbody tr th:only-of-type {\n",
       "        vertical-align: middle;\n",
       "    }\n",
       "\n",
       "    .dataframe tbody tr th {\n",
       "        vertical-align: top;\n",
       "    }\n",
       "\n",
       "    .dataframe thead th {\n",
       "        text-align: right;\n",
       "    }\n",
       "</style>\n",
       "<table border=\"1\" class=\"dataframe\">\n",
       "  <thead>\n",
       "    <tr style=\"text-align: right;\">\n",
       "      <th></th>\n",
       "      <th>Item_Fat_Content</th>\n",
       "      <th>Item_Type</th>\n",
       "      <th>Outlet_Size</th>\n",
       "      <th>Outlet_Location_Type</th>\n",
       "      <th>Outlet_Type</th>\n",
       "    </tr>\n",
       "  </thead>\n",
       "  <tbody>\n",
       "    <tr>\n",
       "      <th>4776</th>\n",
       "      <td>Low Fat</td>\n",
       "      <td>Household</td>\n",
       "      <td>Medium</td>\n",
       "      <td>Tier 3</td>\n",
       "      <td>Supermarket Type2</td>\n",
       "    </tr>\n",
       "    <tr>\n",
       "      <th>7510</th>\n",
       "      <td>Regular</td>\n",
       "      <td>Snack Foods</td>\n",
       "      <td>Medium</td>\n",
       "      <td>Tier 3</td>\n",
       "      <td>Supermarket Type2</td>\n",
       "    </tr>\n",
       "    <tr>\n",
       "      <th>5828</th>\n",
       "      <td>Regular</td>\n",
       "      <td>Meat</td>\n",
       "      <td>Medium</td>\n",
       "      <td>Tier 1</td>\n",
       "      <td>Supermarket Type1</td>\n",
       "    </tr>\n",
       "    <tr>\n",
       "      <th>5327</th>\n",
       "      <td>Low Fat</td>\n",
       "      <td>Baking Goods</td>\n",
       "      <td>Small</td>\n",
       "      <td>Tier 2</td>\n",
       "      <td>Supermarket Type1</td>\n",
       "    </tr>\n",
       "    <tr>\n",
       "      <th>4810</th>\n",
       "      <td>Low Fat</td>\n",
       "      <td>Frozen Foods</td>\n",
       "      <td>NaN</td>\n",
       "      <td>Tier 2</td>\n",
       "      <td>Supermarket Type1</td>\n",
       "    </tr>\n",
       "    <tr>\n",
       "      <th>...</th>\n",
       "      <td>...</td>\n",
       "      <td>...</td>\n",
       "      <td>...</td>\n",
       "      <td>...</td>\n",
       "      <td>...</td>\n",
       "    </tr>\n",
       "    <tr>\n",
       "      <th>5734</th>\n",
       "      <td>Regular</td>\n",
       "      <td>Fruits and Vegetables</td>\n",
       "      <td>NaN</td>\n",
       "      <td>Tier 3</td>\n",
       "      <td>Grocery Store</td>\n",
       "    </tr>\n",
       "    <tr>\n",
       "      <th>5191</th>\n",
       "      <td>Low Fat</td>\n",
       "      <td>Frozen Foods</td>\n",
       "      <td>NaN</td>\n",
       "      <td>Tier 2</td>\n",
       "      <td>Supermarket Type1</td>\n",
       "    </tr>\n",
       "    <tr>\n",
       "      <th>5390</th>\n",
       "      <td>Low Fat</td>\n",
       "      <td>Health and Hygiene</td>\n",
       "      <td>NaN</td>\n",
       "      <td>Tier 2</td>\n",
       "      <td>Supermarket Type1</td>\n",
       "    </tr>\n",
       "    <tr>\n",
       "      <th>860</th>\n",
       "      <td>low fat</td>\n",
       "      <td>Snack Foods</td>\n",
       "      <td>NaN</td>\n",
       "      <td>Tier 2</td>\n",
       "      <td>Supermarket Type1</td>\n",
       "    </tr>\n",
       "    <tr>\n",
       "      <th>7270</th>\n",
       "      <td>LF</td>\n",
       "      <td>Household</td>\n",
       "      <td>Small</td>\n",
       "      <td>Tier 1</td>\n",
       "      <td>Supermarket Type1</td>\n",
       "    </tr>\n",
       "  </tbody>\n",
       "</table>\n",
       "<p>6392 rows × 5 columns</p>\n",
       "</div>"
      ],
      "text/plain": [
       "     Item_Fat_Content              Item_Type Outlet_Size Outlet_Location_Type  \\\n",
       "4776          Low Fat              Household      Medium               Tier 3   \n",
       "7510          Regular            Snack Foods      Medium               Tier 3   \n",
       "5828          Regular                   Meat      Medium               Tier 1   \n",
       "5327          Low Fat           Baking Goods       Small               Tier 2   \n",
       "4810          Low Fat           Frozen Foods         NaN               Tier 2   \n",
       "...               ...                    ...         ...                  ...   \n",
       "5734          Regular  Fruits and Vegetables         NaN               Tier 3   \n",
       "5191          Low Fat           Frozen Foods         NaN               Tier 2   \n",
       "5390          Low Fat     Health and Hygiene         NaN               Tier 2   \n",
       "860           low fat            Snack Foods         NaN               Tier 2   \n",
       "7270               LF              Household       Small               Tier 1   \n",
       "\n",
       "            Outlet_Type  \n",
       "4776  Supermarket Type2  \n",
       "7510  Supermarket Type2  \n",
       "5828  Supermarket Type1  \n",
       "5327  Supermarket Type1  \n",
       "4810  Supermarket Type1  \n",
       "...                 ...  \n",
       "5734      Grocery Store  \n",
       "5191  Supermarket Type1  \n",
       "5390  Supermarket Type1  \n",
       "860   Supermarket Type1  \n",
       "7270  Supermarket Type1  \n",
       "\n",
       "[6392 rows x 5 columns]"
      ]
     },
     "execution_count": 11,
     "metadata": {},
     "output_type": "execute_result"
    }
   ],
   "source": [
    "# Selectors\n",
    "cat_selector = make_column_selector(dtype_include='object')\n",
    "num_selector = make_column_selector(dtype_include='number')\n",
    "\n",
    "train_cat_data = X_train[cat_selector(X_train)]\n",
    "test_cat_data = X_test[cat_selector(X_test)]\n",
    "train_cat_data"
   ]
  },
  {
   "cell_type": "code",
   "execution_count": 12,
   "metadata": {
    "id": "reXOmModvmN3"
   },
   "outputs": [],
   "source": [
    "# Imputers\n",
    "freq_imputer = SimpleImputer(strategy='constant',fill_value='MISSING')\n",
    "mean_imputer = SimpleImputer(strategy='mean')\n",
    "\n",
    "# Scaler\n",
    "scaler = StandardScaler()\n",
    "\n",
    "# One-hot encoder\n",
    "ohe = OneHotEncoder(handle_unknown='ignore', sparse=False)\n"
   ]
  },
  {
   "cell_type": "code",
   "execution_count": 13,
   "metadata": {
    "colab": {
     "base_uri": "https://localhost:8080/",
     "height": 208
    },
    "id": "DHrB3huOvo0Y",
    "outputId": "08687ae6-163f-47ab-a18d-1d6ed59e85d5"
   },
   "outputs": [
    {
     "data": {
      "text/html": [
       "<style>#sk-container-id-1 {color: black;background-color: white;}#sk-container-id-1 pre{padding: 0;}#sk-container-id-1 div.sk-toggleable {background-color: white;}#sk-container-id-1 label.sk-toggleable__label {cursor: pointer;display: block;width: 100%;margin-bottom: 0;padding: 0.3em;box-sizing: border-box;text-align: center;}#sk-container-id-1 label.sk-toggleable__label-arrow:before {content: \"▸\";float: left;margin-right: 0.25em;color: #696969;}#sk-container-id-1 label.sk-toggleable__label-arrow:hover:before {color: black;}#sk-container-id-1 div.sk-estimator:hover label.sk-toggleable__label-arrow:before {color: black;}#sk-container-id-1 div.sk-toggleable__content {max-height: 0;max-width: 0;overflow: hidden;text-align: left;background-color: #f0f8ff;}#sk-container-id-1 div.sk-toggleable__content pre {margin: 0.2em;color: black;border-radius: 0.25em;background-color: #f0f8ff;}#sk-container-id-1 input.sk-toggleable__control:checked~div.sk-toggleable__content {max-height: 200px;max-width: 100%;overflow: auto;}#sk-container-id-1 input.sk-toggleable__control:checked~label.sk-toggleable__label-arrow:before {content: \"▾\";}#sk-container-id-1 div.sk-estimator input.sk-toggleable__control:checked~label.sk-toggleable__label {background-color: #d4ebff;}#sk-container-id-1 div.sk-label input.sk-toggleable__control:checked~label.sk-toggleable__label {background-color: #d4ebff;}#sk-container-id-1 input.sk-hidden--visually {border: 0;clip: rect(1px 1px 1px 1px);clip: rect(1px, 1px, 1px, 1px);height: 1px;margin: -1px;overflow: hidden;padding: 0;position: absolute;width: 1px;}#sk-container-id-1 div.sk-estimator {font-family: monospace;background-color: #f0f8ff;border: 1px dotted black;border-radius: 0.25em;box-sizing: border-box;margin-bottom: 0.5em;}#sk-container-id-1 div.sk-estimator:hover {background-color: #d4ebff;}#sk-container-id-1 div.sk-parallel-item::after {content: \"\";width: 100%;border-bottom: 1px solid gray;flex-grow: 1;}#sk-container-id-1 div.sk-label:hover label.sk-toggleable__label {background-color: #d4ebff;}#sk-container-id-1 div.sk-serial::before {content: \"\";position: absolute;border-left: 1px solid gray;box-sizing: border-box;top: 0;bottom: 0;left: 50%;z-index: 0;}#sk-container-id-1 div.sk-serial {display: flex;flex-direction: column;align-items: center;background-color: white;padding-right: 0.2em;padding-left: 0.2em;position: relative;}#sk-container-id-1 div.sk-item {position: relative;z-index: 1;}#sk-container-id-1 div.sk-parallel {display: flex;align-items: stretch;justify-content: center;background-color: white;position: relative;}#sk-container-id-1 div.sk-item::before, #sk-container-id-1 div.sk-parallel-item::before {content: \"\";position: absolute;border-left: 1px solid gray;box-sizing: border-box;top: 0;bottom: 0;left: 50%;z-index: -1;}#sk-container-id-1 div.sk-parallel-item {display: flex;flex-direction: column;z-index: 1;position: relative;background-color: white;}#sk-container-id-1 div.sk-parallel-item:first-child::after {align-self: flex-end;width: 50%;}#sk-container-id-1 div.sk-parallel-item:last-child::after {align-self: flex-start;width: 50%;}#sk-container-id-1 div.sk-parallel-item:only-child::after {width: 0;}#sk-container-id-1 div.sk-dashed-wrapped {border: 1px dashed gray;margin: 0 0.4em 0.5em 0.4em;box-sizing: border-box;padding-bottom: 0.4em;background-color: white;}#sk-container-id-1 div.sk-label label {font-family: monospace;font-weight: bold;display: inline-block;line-height: 1.2em;}#sk-container-id-1 div.sk-label-container {text-align: center;}#sk-container-id-1 div.sk-container {/* jupyter's `normalize.less` sets `[hidden] { display: none; }` but bootstrap.min.css set `[hidden] { display: none !important; }` so we also need the `!important` here to be able to override the default hidden behavior on the sphinx rendered scikit-learn.org. See: https://github.com/scikit-learn/scikit-learn/issues/21755 */display: inline-block !important;position: relative;}#sk-container-id-1 div.sk-text-repr-fallback {display: none;}</style><div id=\"sk-container-id-1\" class=\"sk-top-container\"><div class=\"sk-text-repr-fallback\"><pre>ColumnTransformer(transformers=[(&#x27;pipeline-1&#x27;,\n",
       "                                 Pipeline(steps=[(&#x27;simpleimputer&#x27;,\n",
       "                                                  SimpleImputer()),\n",
       "                                                 (&#x27;standardscaler&#x27;,\n",
       "                                                  StandardScaler())]),\n",
       "                                 &lt;sklearn.compose._column_transformer.make_column_selector object at 0x13c943910&gt;),\n",
       "                                (&#x27;pipeline-2&#x27;,\n",
       "                                 Pipeline(steps=[(&#x27;simpleimputer&#x27;,\n",
       "                                                  SimpleImputer(fill_value=&#x27;MISSING&#x27;,\n",
       "                                                                strategy=&#x27;constant&#x27;)),\n",
       "                                                 (&#x27;onehotencoder&#x27;,\n",
       "                                                  OneHotEncoder(handle_unknown=&#x27;ignore&#x27;,\n",
       "                                                                sparse=False))]),\n",
       "                                 &lt;sklearn.compose._column_transformer.make_column_selector object at 0x13c9433d0&gt;)],\n",
       "                  verbose_feature_names_out=False)</pre><b>In a Jupyter environment, please rerun this cell to show the HTML representation or trust the notebook. <br />On GitHub, the HTML representation is unable to render, please try loading this page with nbviewer.org.</b></div><div class=\"sk-container\" hidden><div class=\"sk-item sk-dashed-wrapped\"><div class=\"sk-label-container\"><div class=\"sk-label sk-toggleable\"><input class=\"sk-toggleable__control sk-hidden--visually\" id=\"sk-estimator-id-1\" type=\"checkbox\" ><label for=\"sk-estimator-id-1\" class=\"sk-toggleable__label sk-toggleable__label-arrow\">ColumnTransformer</label><div class=\"sk-toggleable__content\"><pre>ColumnTransformer(transformers=[(&#x27;pipeline-1&#x27;,\n",
       "                                 Pipeline(steps=[(&#x27;simpleimputer&#x27;,\n",
       "                                                  SimpleImputer()),\n",
       "                                                 (&#x27;standardscaler&#x27;,\n",
       "                                                  StandardScaler())]),\n",
       "                                 &lt;sklearn.compose._column_transformer.make_column_selector object at 0x13c943910&gt;),\n",
       "                                (&#x27;pipeline-2&#x27;,\n",
       "                                 Pipeline(steps=[(&#x27;simpleimputer&#x27;,\n",
       "                                                  SimpleImputer(fill_value=&#x27;MISSING&#x27;,\n",
       "                                                                strategy=&#x27;constant&#x27;)),\n",
       "                                                 (&#x27;onehotencoder&#x27;,\n",
       "                                                  OneHotEncoder(handle_unknown=&#x27;ignore&#x27;,\n",
       "                                                                sparse=False))]),\n",
       "                                 &lt;sklearn.compose._column_transformer.make_column_selector object at 0x13c9433d0&gt;)],\n",
       "                  verbose_feature_names_out=False)</pre></div></div></div><div class=\"sk-parallel\"><div class=\"sk-parallel-item\"><div class=\"sk-item\"><div class=\"sk-label-container\"><div class=\"sk-label sk-toggleable\"><input class=\"sk-toggleable__control sk-hidden--visually\" id=\"sk-estimator-id-2\" type=\"checkbox\" ><label for=\"sk-estimator-id-2\" class=\"sk-toggleable__label sk-toggleable__label-arrow\">pipeline-1</label><div class=\"sk-toggleable__content\"><pre>&lt;sklearn.compose._column_transformer.make_column_selector object at 0x13c943910&gt;</pre></div></div></div><div class=\"sk-serial\"><div class=\"sk-item\"><div class=\"sk-serial\"><div class=\"sk-item\"><div class=\"sk-estimator sk-toggleable\"><input class=\"sk-toggleable__control sk-hidden--visually\" id=\"sk-estimator-id-3\" type=\"checkbox\" ><label for=\"sk-estimator-id-3\" class=\"sk-toggleable__label sk-toggleable__label-arrow\">SimpleImputer</label><div class=\"sk-toggleable__content\"><pre>SimpleImputer()</pre></div></div></div><div class=\"sk-item\"><div class=\"sk-estimator sk-toggleable\"><input class=\"sk-toggleable__control sk-hidden--visually\" id=\"sk-estimator-id-4\" type=\"checkbox\" ><label for=\"sk-estimator-id-4\" class=\"sk-toggleable__label sk-toggleable__label-arrow\">StandardScaler</label><div class=\"sk-toggleable__content\"><pre>StandardScaler()</pre></div></div></div></div></div></div></div></div><div class=\"sk-parallel-item\"><div class=\"sk-item\"><div class=\"sk-label-container\"><div class=\"sk-label sk-toggleable\"><input class=\"sk-toggleable__control sk-hidden--visually\" id=\"sk-estimator-id-5\" type=\"checkbox\" ><label for=\"sk-estimator-id-5\" class=\"sk-toggleable__label sk-toggleable__label-arrow\">pipeline-2</label><div class=\"sk-toggleable__content\"><pre>&lt;sklearn.compose._column_transformer.make_column_selector object at 0x13c9433d0&gt;</pre></div></div></div><div class=\"sk-serial\"><div class=\"sk-item\"><div class=\"sk-serial\"><div class=\"sk-item\"><div class=\"sk-estimator sk-toggleable\"><input class=\"sk-toggleable__control sk-hidden--visually\" id=\"sk-estimator-id-6\" type=\"checkbox\" ><label for=\"sk-estimator-id-6\" class=\"sk-toggleable__label sk-toggleable__label-arrow\">SimpleImputer</label><div class=\"sk-toggleable__content\"><pre>SimpleImputer(fill_value=&#x27;MISSING&#x27;, strategy=&#x27;constant&#x27;)</pre></div></div></div><div class=\"sk-item\"><div class=\"sk-estimator sk-toggleable\"><input class=\"sk-toggleable__control sk-hidden--visually\" id=\"sk-estimator-id-7\" type=\"checkbox\" ><label for=\"sk-estimator-id-7\" class=\"sk-toggleable__label sk-toggleable__label-arrow\">OneHotEncoder</label><div class=\"sk-toggleable__content\"><pre>OneHotEncoder(handle_unknown=&#x27;ignore&#x27;, sparse=False)</pre></div></div></div></div></div></div></div></div></div></div></div></div>"
      ],
      "text/plain": [
       "ColumnTransformer(transformers=[('pipeline-1',\n",
       "                                 Pipeline(steps=[('simpleimputer',\n",
       "                                                  SimpleImputer()),\n",
       "                                                 ('standardscaler',\n",
       "                                                  StandardScaler())]),\n",
       "                                 <sklearn.compose._column_transformer.make_column_selector object at 0x13c943910>),\n",
       "                                ('pipeline-2',\n",
       "                                 Pipeline(steps=[('simpleimputer',\n",
       "                                                  SimpleImputer(fill_value='MISSING',\n",
       "                                                                strategy='constant')),\n",
       "                                                 ('onehotencoder',\n",
       "                                                  OneHotEncoder(handle_unknown='ignore',\n",
       "                                                                sparse=False))]),\n",
       "                                 <sklearn.compose._column_transformer.make_column_selector object at 0x13c9433d0>)],\n",
       "                  verbose_feature_names_out=False)"
      ]
     },
     "execution_count": 13,
     "metadata": {},
     "output_type": "execute_result"
    }
   ],
   "source": [
    "# Cat and Numeric pipeline\n",
    "numeric_pipe = make_pipeline(mean_imputer, scaler)\n",
    "categorical_pipe = make_pipeline(freq_imputer, ohe)\n",
    "\n",
    "# Tuples for Column Transformer\n",
    "number_tuple = (numeric_pipe, num_selector)\n",
    "category_tuple = (categorical_pipe, cat_selector)\n",
    "# ColumnTransformer\n",
    "preprocessor = make_column_transformer(number_tuple, category_tuple, verbose_feature_names_out=False)\n",
    "\n",
    "# fit on train\n",
    "preprocessor.fit(X_train)\n"
   ]
  },
  {
   "cell_type": "code",
   "execution_count": 14,
   "metadata": {
    "colab": {
     "base_uri": "https://localhost:8080/"
    },
    "id": "-FlpB7aCGDUn",
    "outputId": "dd837209-1714-4a83-b228-9492189b8105"
   },
   "outputs": [
    {
     "data": {
      "text/plain": [
       "array(['Item_Weight', 'Item_Visibility', 'Item_MRP',\n",
       "       'Item_Fat_Content_LF', 'Item_Fat_Content_Low Fat',\n",
       "       'Item_Fat_Content_Regular', 'Item_Fat_Content_low fat',\n",
       "       'Item_Fat_Content_reg', 'Item_Type_Baking Goods',\n",
       "       'Item_Type_Breads', 'Item_Type_Breakfast', 'Item_Type_Canned',\n",
       "       'Item_Type_Dairy', 'Item_Type_Frozen Foods',\n",
       "       'Item_Type_Fruits and Vegetables', 'Item_Type_Hard Drinks',\n",
       "       'Item_Type_Health and Hygiene', 'Item_Type_Household',\n",
       "       'Item_Type_Meat', 'Item_Type_Others', 'Item_Type_Seafood',\n",
       "       'Item_Type_Snack Foods', 'Item_Type_Soft Drinks',\n",
       "       'Item_Type_Starchy Foods', 'Outlet_Size_High',\n",
       "       'Outlet_Size_MISSING', 'Outlet_Size_Medium', 'Outlet_Size_Small',\n",
       "       'Outlet_Location_Type_Tier 1', 'Outlet_Location_Type_Tier 2',\n",
       "       'Outlet_Location_Type_Tier 3', 'Outlet_Type_Grocery Store',\n",
       "       'Outlet_Type_Supermarket Type1', 'Outlet_Type_Supermarket Type2',\n",
       "       'Outlet_Type_Supermarket Type3'], dtype=object)"
      ]
     },
     "execution_count": 14,
     "metadata": {},
     "output_type": "execute_result"
    }
   ],
   "source": [
    "## fit column transformer and run get_feature_names_out\n",
    "feature_names = preprocessor.get_feature_names_out()\n",
    "feature_names\n"
   ]
  },
  {
   "cell_type": "code",
   "execution_count": 15,
   "metadata": {
    "colab": {
     "base_uri": "https://localhost:8080/",
     "height": 254
    },
    "id": "L5H7OEcEGFiQ",
    "outputId": "5724eb03-0d00-495b-b72d-39d41bc76d65"
   },
   "outputs": [
    {
     "data": {
      "text/html": [
       "<div>\n",
       "<style scoped>\n",
       "    .dataframe tbody tr th:only-of-type {\n",
       "        vertical-align: middle;\n",
       "    }\n",
       "\n",
       "    .dataframe tbody tr th {\n",
       "        vertical-align: top;\n",
       "    }\n",
       "\n",
       "    .dataframe thead th {\n",
       "        text-align: right;\n",
       "    }\n",
       "</style>\n",
       "<table border=\"1\" class=\"dataframe\">\n",
       "  <thead>\n",
       "    <tr style=\"text-align: right;\">\n",
       "      <th></th>\n",
       "      <th>Item_Weight</th>\n",
       "      <th>Item_Visibility</th>\n",
       "      <th>Item_MRP</th>\n",
       "      <th>Item_Fat_Content_LF</th>\n",
       "      <th>Item_Fat_Content_Low Fat</th>\n",
       "      <th>Item_Fat_Content_Regular</th>\n",
       "      <th>Item_Fat_Content_low fat</th>\n",
       "      <th>Item_Fat_Content_reg</th>\n",
       "      <th>Item_Type_Baking Goods</th>\n",
       "      <th>Item_Type_Breads</th>\n",
       "      <th>...</th>\n",
       "      <th>Outlet_Size_MISSING</th>\n",
       "      <th>Outlet_Size_Medium</th>\n",
       "      <th>Outlet_Size_Small</th>\n",
       "      <th>Outlet_Location_Type_Tier 1</th>\n",
       "      <th>Outlet_Location_Type_Tier 2</th>\n",
       "      <th>Outlet_Location_Type_Tier 3</th>\n",
       "      <th>Outlet_Type_Grocery Store</th>\n",
       "      <th>Outlet_Type_Supermarket Type1</th>\n",
       "      <th>Outlet_Type_Supermarket Type2</th>\n",
       "      <th>Outlet_Type_Supermarket Type3</th>\n",
       "    </tr>\n",
       "  </thead>\n",
       "  <tbody>\n",
       "    <tr>\n",
       "      <th>4776</th>\n",
       "      <td>0.817249</td>\n",
       "      <td>-0.712775</td>\n",
       "      <td>1.828109</td>\n",
       "      <td>0.0</td>\n",
       "      <td>1.0</td>\n",
       "      <td>0.0</td>\n",
       "      <td>0.0</td>\n",
       "      <td>0.0</td>\n",
       "      <td>0.0</td>\n",
       "      <td>0.0</td>\n",
       "      <td>...</td>\n",
       "      <td>0.0</td>\n",
       "      <td>1.0</td>\n",
       "      <td>0.0</td>\n",
       "      <td>0.0</td>\n",
       "      <td>0.0</td>\n",
       "      <td>1.0</td>\n",
       "      <td>0.0</td>\n",
       "      <td>0.0</td>\n",
       "      <td>1.0</td>\n",
       "      <td>0.0</td>\n",
       "    </tr>\n",
       "    <tr>\n",
       "      <th>7510</th>\n",
       "      <td>0.556340</td>\n",
       "      <td>-1.291052</td>\n",
       "      <td>0.603369</td>\n",
       "      <td>0.0</td>\n",
       "      <td>0.0</td>\n",
       "      <td>1.0</td>\n",
       "      <td>0.0</td>\n",
       "      <td>0.0</td>\n",
       "      <td>0.0</td>\n",
       "      <td>0.0</td>\n",
       "      <td>...</td>\n",
       "      <td>0.0</td>\n",
       "      <td>1.0</td>\n",
       "      <td>0.0</td>\n",
       "      <td>0.0</td>\n",
       "      <td>0.0</td>\n",
       "      <td>1.0</td>\n",
       "      <td>0.0</td>\n",
       "      <td>0.0</td>\n",
       "      <td>1.0</td>\n",
       "      <td>0.0</td>\n",
       "    </tr>\n",
       "    <tr>\n",
       "      <th>5828</th>\n",
       "      <td>-0.131512</td>\n",
       "      <td>1.813319</td>\n",
       "      <td>0.244541</td>\n",
       "      <td>0.0</td>\n",
       "      <td>0.0</td>\n",
       "      <td>1.0</td>\n",
       "      <td>0.0</td>\n",
       "      <td>0.0</td>\n",
       "      <td>0.0</td>\n",
       "      <td>0.0</td>\n",
       "      <td>...</td>\n",
       "      <td>0.0</td>\n",
       "      <td>1.0</td>\n",
       "      <td>0.0</td>\n",
       "      <td>1.0</td>\n",
       "      <td>0.0</td>\n",
       "      <td>0.0</td>\n",
       "      <td>0.0</td>\n",
       "      <td>1.0</td>\n",
       "      <td>0.0</td>\n",
       "      <td>0.0</td>\n",
       "    </tr>\n",
       "  </tbody>\n",
       "</table>\n",
       "<p>3 rows × 35 columns</p>\n",
       "</div>"
      ],
      "text/plain": [
       "      Item_Weight  Item_Visibility  Item_MRP  Item_Fat_Content_LF  \\\n",
       "4776     0.817249        -0.712775  1.828109                  0.0   \n",
       "7510     0.556340        -1.291052  0.603369                  0.0   \n",
       "5828    -0.131512         1.813319  0.244541                  0.0   \n",
       "\n",
       "      Item_Fat_Content_Low Fat  Item_Fat_Content_Regular  \\\n",
       "4776                       1.0                       0.0   \n",
       "7510                       0.0                       1.0   \n",
       "5828                       0.0                       1.0   \n",
       "\n",
       "      Item_Fat_Content_low fat  Item_Fat_Content_reg  Item_Type_Baking Goods  \\\n",
       "4776                       0.0                   0.0                     0.0   \n",
       "7510                       0.0                   0.0                     0.0   \n",
       "5828                       0.0                   0.0                     0.0   \n",
       "\n",
       "      Item_Type_Breads  ...  Outlet_Size_MISSING  Outlet_Size_Medium  \\\n",
       "4776               0.0  ...                  0.0                 1.0   \n",
       "7510               0.0  ...                  0.0                 1.0   \n",
       "5828               0.0  ...                  0.0                 1.0   \n",
       "\n",
       "      Outlet_Size_Small  Outlet_Location_Type_Tier 1  \\\n",
       "4776                0.0                          0.0   \n",
       "7510                0.0                          0.0   \n",
       "5828                0.0                          1.0   \n",
       "\n",
       "      Outlet_Location_Type_Tier 2  Outlet_Location_Type_Tier 3  \\\n",
       "4776                          0.0                          1.0   \n",
       "7510                          0.0                          1.0   \n",
       "5828                          0.0                          0.0   \n",
       "\n",
       "      Outlet_Type_Grocery Store  Outlet_Type_Supermarket Type1  \\\n",
       "4776                        0.0                            0.0   \n",
       "7510                        0.0                            0.0   \n",
       "5828                        0.0                            1.0   \n",
       "\n",
       "      Outlet_Type_Supermarket Type2  Outlet_Type_Supermarket Type3  \n",
       "4776                            1.0                            0.0  \n",
       "7510                            1.0                            0.0  \n",
       "5828                            0.0                            0.0  \n",
       "\n",
       "[3 rows x 35 columns]"
      ]
     },
     "execution_count": 15,
     "metadata": {},
     "output_type": "execute_result"
    }
   ],
   "source": [
    "# Converting X_train to dataframe\n",
    "X_train_df = pd.DataFrame(preprocessor.transform(X_train),\n",
    "                           columns = feature_names, index = X_train.index)\n",
    "X_train_df.head(3)"
   ]
  },
  {
   "cell_type": "code",
   "execution_count": 16,
   "metadata": {
    "colab": {
     "base_uri": "https://localhost:8080/",
     "height": 254
    },
    "id": "RT2-mT-CIKos",
    "outputId": "a1c68de6-306b-48ba-e636-9621ba1e24ab"
   },
   "outputs": [
    {
     "data": {
      "text/html": [
       "<div>\n",
       "<style scoped>\n",
       "    .dataframe tbody tr th:only-of-type {\n",
       "        vertical-align: middle;\n",
       "    }\n",
       "\n",
       "    .dataframe tbody tr th {\n",
       "        vertical-align: top;\n",
       "    }\n",
       "\n",
       "    .dataframe thead th {\n",
       "        text-align: right;\n",
       "    }\n",
       "</style>\n",
       "<table border=\"1\" class=\"dataframe\">\n",
       "  <thead>\n",
       "    <tr style=\"text-align: right;\">\n",
       "      <th></th>\n",
       "      <th>Item_Weight</th>\n",
       "      <th>Item_Visibility</th>\n",
       "      <th>Item_MRP</th>\n",
       "      <th>Item_Fat_Content_LF</th>\n",
       "      <th>Item_Fat_Content_Low Fat</th>\n",
       "      <th>Item_Fat_Content_Regular</th>\n",
       "      <th>Item_Fat_Content_low fat</th>\n",
       "      <th>Item_Fat_Content_reg</th>\n",
       "      <th>Item_Type_Baking Goods</th>\n",
       "      <th>Item_Type_Breads</th>\n",
       "      <th>...</th>\n",
       "      <th>Outlet_Size_MISSING</th>\n",
       "      <th>Outlet_Size_Medium</th>\n",
       "      <th>Outlet_Size_Small</th>\n",
       "      <th>Outlet_Location_Type_Tier 1</th>\n",
       "      <th>Outlet_Location_Type_Tier 2</th>\n",
       "      <th>Outlet_Location_Type_Tier 3</th>\n",
       "      <th>Outlet_Type_Grocery Store</th>\n",
       "      <th>Outlet_Type_Supermarket Type1</th>\n",
       "      <th>Outlet_Type_Supermarket Type2</th>\n",
       "      <th>Outlet_Type_Supermarket Type3</th>\n",
       "    </tr>\n",
       "  </thead>\n",
       "  <tbody>\n",
       "    <tr>\n",
       "      <th>7503</th>\n",
       "      <td>0.331009</td>\n",
       "      <td>-0.776646</td>\n",
       "      <td>-0.998816</td>\n",
       "      <td>0.0</td>\n",
       "      <td>1.0</td>\n",
       "      <td>0.0</td>\n",
       "      <td>0.0</td>\n",
       "      <td>0.0</td>\n",
       "      <td>0.0</td>\n",
       "      <td>0.0</td>\n",
       "      <td>...</td>\n",
       "      <td>0.0</td>\n",
       "      <td>0.0</td>\n",
       "      <td>0.0</td>\n",
       "      <td>0.0</td>\n",
       "      <td>0.0</td>\n",
       "      <td>1.0</td>\n",
       "      <td>0.0</td>\n",
       "      <td>1.0</td>\n",
       "      <td>0.0</td>\n",
       "      <td>0.0</td>\n",
       "    </tr>\n",
       "    <tr>\n",
       "      <th>2957</th>\n",
       "      <td>-1.179892</td>\n",
       "      <td>0.100317</td>\n",
       "      <td>-1.585194</td>\n",
       "      <td>0.0</td>\n",
       "      <td>1.0</td>\n",
       "      <td>0.0</td>\n",
       "      <td>0.0</td>\n",
       "      <td>0.0</td>\n",
       "      <td>0.0</td>\n",
       "      <td>0.0</td>\n",
       "      <td>...</td>\n",
       "      <td>0.0</td>\n",
       "      <td>0.0</td>\n",
       "      <td>1.0</td>\n",
       "      <td>1.0</td>\n",
       "      <td>0.0</td>\n",
       "      <td>0.0</td>\n",
       "      <td>0.0</td>\n",
       "      <td>1.0</td>\n",
       "      <td>0.0</td>\n",
       "      <td>0.0</td>\n",
       "    </tr>\n",
       "    <tr>\n",
       "      <th>7031</th>\n",
       "      <td>0.378447</td>\n",
       "      <td>-0.482994</td>\n",
       "      <td>-1.595784</td>\n",
       "      <td>0.0</td>\n",
       "      <td>0.0</td>\n",
       "      <td>1.0</td>\n",
       "      <td>0.0</td>\n",
       "      <td>0.0</td>\n",
       "      <td>0.0</td>\n",
       "      <td>0.0</td>\n",
       "      <td>...</td>\n",
       "      <td>0.0</td>\n",
       "      <td>1.0</td>\n",
       "      <td>0.0</td>\n",
       "      <td>1.0</td>\n",
       "      <td>0.0</td>\n",
       "      <td>0.0</td>\n",
       "      <td>0.0</td>\n",
       "      <td>1.0</td>\n",
       "      <td>0.0</td>\n",
       "      <td>0.0</td>\n",
       "    </tr>\n",
       "  </tbody>\n",
       "</table>\n",
       "<p>3 rows × 35 columns</p>\n",
       "</div>"
      ],
      "text/plain": [
       "      Item_Weight  Item_Visibility  Item_MRP  Item_Fat_Content_LF  \\\n",
       "7503     0.331009        -0.776646 -0.998816                  0.0   \n",
       "2957    -1.179892         0.100317 -1.585194                  0.0   \n",
       "7031     0.378447        -0.482994 -1.595784                  0.0   \n",
       "\n",
       "      Item_Fat_Content_Low Fat  Item_Fat_Content_Regular  \\\n",
       "7503                       1.0                       0.0   \n",
       "2957                       1.0                       0.0   \n",
       "7031                       0.0                       1.0   \n",
       "\n",
       "      Item_Fat_Content_low fat  Item_Fat_Content_reg  Item_Type_Baking Goods  \\\n",
       "7503                       0.0                   0.0                     0.0   \n",
       "2957                       0.0                   0.0                     0.0   \n",
       "7031                       0.0                   0.0                     0.0   \n",
       "\n",
       "      Item_Type_Breads  ...  Outlet_Size_MISSING  Outlet_Size_Medium  \\\n",
       "7503               0.0  ...                  0.0                 0.0   \n",
       "2957               0.0  ...                  0.0                 0.0   \n",
       "7031               0.0  ...                  0.0                 1.0   \n",
       "\n",
       "      Outlet_Size_Small  Outlet_Location_Type_Tier 1  \\\n",
       "7503                0.0                          0.0   \n",
       "2957                1.0                          1.0   \n",
       "7031                0.0                          1.0   \n",
       "\n",
       "      Outlet_Location_Type_Tier 2  Outlet_Location_Type_Tier 3  \\\n",
       "7503                          0.0                          1.0   \n",
       "2957                          0.0                          0.0   \n",
       "7031                          0.0                          0.0   \n",
       "\n",
       "      Outlet_Type_Grocery Store  Outlet_Type_Supermarket Type1  \\\n",
       "7503                        0.0                            1.0   \n",
       "2957                        0.0                            1.0   \n",
       "7031                        0.0                            1.0   \n",
       "\n",
       "      Outlet_Type_Supermarket Type2  Outlet_Type_Supermarket Type3  \n",
       "7503                            0.0                            0.0  \n",
       "2957                            0.0                            0.0  \n",
       "7031                            0.0                            0.0  \n",
       "\n",
       "[3 rows x 35 columns]"
      ]
     },
     "execution_count": 16,
     "metadata": {},
     "output_type": "execute_result"
    }
   ],
   "source": [
    "# Converting X_test to dataframe\n",
    "X_test_df = pd.DataFrame(preprocessor.transform(X_test),\n",
    "                           columns = feature_names, index = X_test.index)\n",
    "X_test_df.head(3)"
   ]
  },
  {
   "cell_type": "code",
   "execution_count": 17,
   "metadata": {
    "id": "_UDHI8KNI-YO"
   },
   "outputs": [],
   "source": [
    "from sklearn import metrics\n",
    "def evaluate_regression(model, X_train,y_train, X_test, y_test): \n",
    "    \"\"\"Evaluates a scikit learn regression model using r-squared and RMSE\"\"\"\n",
    "    \n",
    "    ## Training Data\n",
    "    y_pred_train = model.predict(X_train)\n",
    "    r2_train = metrics.r2_score(y_train, y_pred_train)\n",
    "    rmse_train = metrics.mean_squared_error(y_train, y_pred_train, \n",
    "                                            squared=False)\n",
    "    \n",
    "    print(f\"Training Data:\\tR^2= {r2_train:.2f}\\tRMSE= {rmse_train:.2f}\")\n",
    "    \n",
    "    ## Test Data\n",
    "    y_pred_test = model.predict(X_test)\n",
    "    r2_test = metrics.r2_score(y_test, y_pred_test)\n",
    "    rmse_test = metrics.mean_squared_error(y_test, y_pred_test, \n",
    "                                            squared=False)\n",
    "    \n",
    "    print(f\"Test Data:\\tR^2= {r2_test:.2f}\\tRMSE= {rmse_test:.2f}\")"
   ]
  },
  {
   "cell_type": "markdown",
   "metadata": {},
   "source": [
    "# Linear Regression\n",
    "- Fit and evaluate your LinearRegresion model using your dataframe X_train and X_test data.\n",
    "- Extract and visualize the coefficients that your model determined.\n",
    "    - Select the top 3 most impactful features and interpret their coefficients in plain English."
   ]
  },
  {
   "cell_type": "code",
   "execution_count": 18,
   "metadata": {
    "colab": {
     "base_uri": "https://localhost:8080/"
    },
    "id": "TNpKXV97IRuH",
    "outputId": "b998f0f9-6a42-4698-d90d-155a980e3e98"
   },
   "outputs": [
    {
     "name": "stdout",
     "output_type": "stream",
     "text": [
      "Training Data:\tR^2= 0.56\tRMSE= 1139.69\n",
      "Test Data:\tR^2= 0.57\tRMSE= 1094.54\n"
     ]
    }
   ],
   "source": [
    "## fitting a linear regression model\n",
    "lin_reg = LinearRegression()\n",
    "lin_reg.fit(X_train_df, y_train)\n",
    "evaluate_regression(lin_reg, X_train_df, y_train, X_test_df,y_test)"
   ]
  },
  {
   "cell_type": "code",
   "execution_count": 19,
   "metadata": {
    "colab": {
     "base_uri": "https://localhost:8080/"
    },
    "id": "E_efp1y1JHyn",
    "outputId": "65bb1cb4-01a1-4d0a-969c-8721515b60b8"
   },
   "outputs": [
    {
     "data": {
      "text/plain": [
       "array([-8.08231426e+00, -1.82940632e+01,  9.84216274e+02, -4.15885909e+14,\n",
       "       -4.15885909e+14, -4.15885909e+14, -4.15885909e+14, -4.15885909e+14,\n",
       "        7.75988398e+14,  7.75988398e+14,  7.75988398e+14,  7.75988398e+14,\n",
       "        7.75988398e+14,  7.75988398e+14,  7.75988398e+14,  7.75988398e+14,\n",
       "        7.75988398e+14,  7.75988398e+14,  7.75988398e+14,  7.75988398e+14,\n",
       "        7.75988398e+14,  7.75988398e+14,  7.75988398e+14,  7.75988398e+14,\n",
       "       -7.16210209e+15, -7.16210209e+15, -7.16210209e+15, -7.16210209e+15,\n",
       "       -4.66932926e+16, -4.66932926e+16, -4.66932926e+16, -2.70275687e+16,\n",
       "       -2.70275687e+16, -2.70275687e+16, -2.70275687e+16])"
      ]
     },
     "execution_count": 19,
     "metadata": {},
     "output_type": "execute_result"
    }
   ],
   "source": [
    "# Getting coefficients\n",
    "lin_reg.coef_"
   ]
  },
  {
   "cell_type": "code",
   "execution_count": 20,
   "metadata": {
    "colab": {
     "base_uri": "https://localhost:8080/"
    },
    "id": "MYtco8xCJzHf",
    "outputId": "31230709-30a7-42fe-d672-cda681310ffb"
   },
   "outputs": [
    {
     "name": "stdout",
     "output_type": "stream",
     "text": [
      "35\n"
     ]
    },
    {
     "data": {
      "text/plain": [
       "35"
      ]
     },
     "execution_count": 20,
     "metadata": {},
     "output_type": "execute_result"
    }
   ],
   "source": [
    "## Checking the number of coeffs matches the # of feature names\n",
    "feature_names = X_train_df.columns\n",
    "\n",
    "print(len(lin_reg.coef_))\n",
    "len(feature_names)"
   ]
  },
  {
   "cell_type": "code",
   "execution_count": 21,
   "metadata": {
    "id": "wM3E809RMTtd"
   },
   "outputs": [],
   "source": [
    "def get_coeffs_linreg(lin_reg, feature_names = None, sort=True,ascending=True,\n",
    "                     name='LinearRegression Coefficients'):\n",
    "    if feature_names is None:\n",
    "        feature_names = lin_reg.feature_names_in_\n",
    "    ## Saving the coefficients\n",
    "    coeffs = pd.Series(lin_reg.coef_, index= feature_names)\n",
    "    coeffs['intercept'] = lin_reg.intercept_\n",
    "    if sort==True:\n",
    "        coeffs = coeffs.sort_values(ascending=ascending)\n",
    "    return coeffs\n"
   ]
  },
  {
   "cell_type": "code",
   "execution_count": 22,
   "metadata": {
    "colab": {
     "base_uri": "https://localhost:8080/"
    },
    "id": "AJB56PPeJ1FM",
    "outputId": "33e1df3c-3b4b-4db1-c922-6e3546481201"
   },
   "outputs": [
    {
     "data": {
      "text/plain": [
       "Outlet_Location_Type_Tier 1       -4.669329e+16\n",
       "Outlet_Location_Type_Tier 3       -4.669329e+16\n",
       "Outlet_Location_Type_Tier 2       -4.669329e+16\n",
       "Outlet_Type_Grocery Store         -2.702757e+16\n",
       "Outlet_Type_Supermarket Type2     -2.702757e+16\n",
       "Outlet_Type_Supermarket Type1     -2.702757e+16\n",
       "Outlet_Type_Supermarket Type3     -2.702757e+16\n",
       "Outlet_Size_MISSING               -7.162102e+15\n",
       "Outlet_Size_High                  -7.162102e+15\n",
       "Outlet_Size_Small                 -7.162102e+15\n",
       "Outlet_Size_Medium                -7.162102e+15\n",
       "Item_Fat_Content_LF               -4.158859e+14\n",
       "Item_Fat_Content_Low Fat          -4.158859e+14\n",
       "Item_Fat_Content_reg              -4.158859e+14\n",
       "Item_Fat_Content_low fat          -4.158859e+14\n",
       "Item_Fat_Content_Regular          -4.158859e+14\n",
       "Item_Visibility                   -1.829406e+01\n",
       "Item_Weight                       -8.082314e+00\n",
       "Item_MRP                           9.842163e+02\n",
       "Item_Type_Dairy                    7.759884e+14\n",
       "Item_Type_Soft Drinks              7.759884e+14\n",
       "Item_Type_Others                   7.759884e+14\n",
       "Item_Type_Breads                   7.759884e+14\n",
       "Item_Type_Snack Foods              7.759884e+14\n",
       "Item_Type_Meat                     7.759884e+14\n",
       "Item_Type_Hard Drinks              7.759884e+14\n",
       "Item_Type_Household                7.759884e+14\n",
       "Item_Type_Baking Goods             7.759884e+14\n",
       "Item_Type_Frozen Foods             7.759884e+14\n",
       "Item_Type_Canned                   7.759884e+14\n",
       "Item_Type_Health and Hygiene       7.759884e+14\n",
       "Item_Type_Fruits and Vegetables    7.759884e+14\n",
       "Item_Type_Breakfast                7.759884e+14\n",
       "Item_Type_Starchy Foods            7.759884e+14\n",
       "Item_Type_Seafood                  7.759884e+14\n",
       "intercept                          8.052286e+16\n",
       "dtype: float64"
      ]
     },
     "execution_count": 22,
     "metadata": {},
     "output_type": "execute_result"
    }
   ],
   "source": [
    "## Saving the coefficients\n",
    "coeffs = get_coeffs_linreg(lin_reg)\n",
    "coeffs"
   ]
  },
  {
   "cell_type": "code",
   "execution_count": 23,
   "metadata": {
    "colab": {
     "base_uri": "https://localhost:8080/"
    },
    "id": "tgtFlf34ONVB",
    "outputId": "a04b60a8-7775-4225-9d62-9ce3878d8dd4"
   },
   "outputs": [
    {
     "data": {
      "text/plain": [
       "Outlet_Location_Type_Tier 1       -4.669329e+16\n",
       "Outlet_Location_Type_Tier 3       -4.669329e+16\n",
       "Outlet_Location_Type_Tier 2       -4.669329e+16\n",
       "Outlet_Type_Grocery Store         -2.702757e+16\n",
       "Outlet_Type_Supermarket Type2     -2.702757e+16\n",
       "Outlet_Type_Supermarket Type1     -2.702757e+16\n",
       "Outlet_Type_Supermarket Type3     -2.702757e+16\n",
       "Outlet_Size_MISSING               -7.162102e+15\n",
       "Outlet_Size_High                  -7.162102e+15\n",
       "Outlet_Size_Small                 -7.162102e+15\n",
       "Outlet_Size_Medium                -7.162102e+15\n",
       "Item_Fat_Content_LF               -4.158859e+14\n",
       "Item_Fat_Content_Low Fat          -4.158859e+14\n",
       "Item_Fat_Content_reg              -4.158859e+14\n",
       "Item_Fat_Content_low fat          -4.158859e+14\n",
       "Item_Fat_Content_Regular          -4.158859e+14\n",
       "Item_Visibility                   -1.829406e+01\n",
       "Item_Weight                       -8.082314e+00\n",
       "Item_MRP                           9.842163e+02\n",
       "Item_Type_Dairy                    7.759884e+14\n",
       "Item_Type_Soft Drinks              7.759884e+14\n",
       "Item_Type_Others                   7.759884e+14\n",
       "Item_Type_Breads                   7.759884e+14\n",
       "Item_Type_Snack Foods              7.759884e+14\n",
       "Item_Type_Meat                     7.759884e+14\n",
       "Item_Type_Hard Drinks              7.759884e+14\n",
       "Item_Type_Household                7.759884e+14\n",
       "Item_Type_Baking Goods             7.759884e+14\n",
       "Item_Type_Frozen Foods             7.759884e+14\n",
       "Item_Type_Canned                   7.759884e+14\n",
       "Item_Type_Health and Hygiene       7.759884e+14\n",
       "Item_Type_Fruits and Vegetables    7.759884e+14\n",
       "Item_Type_Breakfast                7.759884e+14\n",
       "Item_Type_Starchy Foods            7.759884e+14\n",
       "Item_Type_Seafood                  7.759884e+14\n",
       "intercept                          8.052286e+16\n",
       "dtype: float64"
      ]
     },
     "execution_count": 23,
     "metadata": {},
     "output_type": "execute_result"
    }
   ],
   "source": [
    "# use .loc to add the intercept to the series\n",
    "coeffs.loc['intercept'] = lin_reg.intercept_\n",
    "coeffs"
   ]
  },
  {
   "cell_type": "code",
   "execution_count": 24,
   "metadata": {
    "colab": {
     "base_uri": "https://localhost:8080/"
    },
    "id": "CQo0YpASOQ5s",
    "outputId": "df49044a-affb-434a-e391-8629b5d5370a"
   },
   "outputs": [
    {
     "data": {
      "text/plain": [
       "Outlet_Location_Type_Tier 1       -46,693,292,555,859,736.00\n",
       "Outlet_Location_Type_Tier 3       -46,693,292,555,859,624.00\n",
       "Outlet_Location_Type_Tier 2       -46,693,292,555,859,568.00\n",
       "Outlet_Type_Grocery Store         -27,027,568,708,390,144.00\n",
       "Outlet_Type_Supermarket Type2     -27,027,568,708,388,696.00\n",
       "Outlet_Type_Supermarket Type1     -27,027,568,708,388,264.00\n",
       "Outlet_Type_Supermarket Type3     -27,027,568,708,386,964.00\n",
       "Outlet_Size_MISSING                -7,162,102,093,172,401.00\n",
       "Outlet_Size_High                   -7,162,102,093,172,295.00\n",
       "Outlet_Size_Small                  -7,162,102,093,172,261.00\n",
       "Outlet_Size_Medium                 -7,162,102,093,172,182.00\n",
       "Item_Fat_Content_LF                  -415,885,908,985,510.94\n",
       "Item_Fat_Content_Low Fat             -415,885,908,985,440.75\n",
       "Item_Fat_Content_reg                 -415,885,908,985,440.25\n",
       "Item_Fat_Content_low fat             -415,885,908,985,391.75\n",
       "Item_Fat_Content_Regular             -415,885,908,985,370.62\n",
       "Item_Visibility                                       -18.29\n",
       "Item_Weight                                            -8.08\n",
       "Item_MRP                                              984.22\n",
       "Item_Type_Dairy                       775,988,398,037,663.62\n",
       "Item_Type_Soft Drinks                 775,988,398,037,731.88\n",
       "Item_Type_Others                      775,988,398,037,733.38\n",
       "Item_Type_Breads                      775,988,398,037,747.62\n",
       "Item_Type_Snack Foods                 775,988,398,037,755.25\n",
       "Item_Type_Meat                        775,988,398,037,764.25\n",
       "Item_Type_Hard Drinks                 775,988,398,037,770.00\n",
       "Item_Type_Household                   775,988,398,037,778.12\n",
       "Item_Type_Baking Goods                775,988,398,037,783.25\n",
       "Item_Type_Frozen Foods                775,988,398,037,784.50\n",
       "Item_Type_Canned                      775,988,398,037,784.75\n",
       "Item_Type_Health and Hygiene          775,988,398,037,812.62\n",
       "Item_Type_Fruits and Vegetables       775,988,398,037,816.50\n",
       "Item_Type_Breakfast                   775,988,398,037,818.88\n",
       "Item_Type_Starchy Foods               775,988,398,037,819.62\n",
       "Item_Type_Seafood                     775,988,398,038,097.12\n",
       "intercept                          80,522,860,868,370,160.00\n",
       "dtype: float64"
      ]
     },
     "execution_count": 24,
     "metadata": {},
     "output_type": "execute_result"
    }
   ],
   "source": [
    "# Removing scientific notation\n",
    "pd.set_option('display.float_format', lambda x: f\"{x:,.2f}\")\n",
    "coeffs"
   ]
  },
  {
   "cell_type": "code",
   "execution_count": 25,
   "metadata": {
    "colab": {
     "base_uri": "https://localhost:8080/"
    },
    "id": "ysES0tZtL2eQ",
    "outputId": "e28664a0-3e39-4dc1-b399-7e0860e65b99"
   },
   "outputs": [
    {
     "data": {
      "text/plain": [
       "Item_Identifier         1559\n",
       "Item_Type                 16\n",
       "Outlet_Identifier         10\n",
       "Outlet_Location_Type       3\n",
       "Outlet_Type                4\n",
       "dtype: int64"
      ]
     },
     "execution_count": 25,
     "metadata": {},
     "output_type": "execute_result"
    }
   ],
   "source": [
    "df.select_dtypes('object').nunique()\n"
   ]
  },
  {
   "cell_type": "markdown",
   "metadata": {},
   "source": [
    "## Re-fitting Linear Regression"
   ]
  },
  {
   "cell_type": "code",
   "execution_count": 26,
   "metadata": {
    "colab": {
     "base_uri": "https://localhost:8080/",
     "height": 661
    },
    "id": "CNGCt8FtL5dO",
    "outputId": "52560f33-b2b7-48fe-b2e2-2f97cda07389"
   },
   "outputs": [
    {
     "data": {
      "text/html": [
       "<div>\n",
       "<style scoped>\n",
       "    .dataframe tbody tr th:only-of-type {\n",
       "        vertical-align: middle;\n",
       "    }\n",
       "\n",
       "    .dataframe tbody tr th {\n",
       "        vertical-align: top;\n",
       "    }\n",
       "\n",
       "    .dataframe thead th {\n",
       "        text-align: right;\n",
       "    }\n",
       "</style>\n",
       "<table border=\"1\" class=\"dataframe\">\n",
       "  <thead>\n",
       "    <tr style=\"text-align: right;\">\n",
       "      <th></th>\n",
       "      <th>Item_Weight</th>\n",
       "      <th>Item_Fat_Content</th>\n",
       "      <th>Item_Visibility</th>\n",
       "      <th>Item_Type</th>\n",
       "      <th>Item_MRP</th>\n",
       "      <th>Outlet_Size</th>\n",
       "      <th>Outlet_Location_Type</th>\n",
       "      <th>Outlet_Type</th>\n",
       "    </tr>\n",
       "  </thead>\n",
       "  <tbody>\n",
       "    <tr>\n",
       "      <th>0</th>\n",
       "      <td>9.30</td>\n",
       "      <td>0</td>\n",
       "      <td>0.02</td>\n",
       "      <td>Dairy</td>\n",
       "      <td>249.81</td>\n",
       "      <td>1.00</td>\n",
       "      <td>Tier 1</td>\n",
       "      <td>Supermarket Type1</td>\n",
       "    </tr>\n",
       "    <tr>\n",
       "      <th>1</th>\n",
       "      <td>5.92</td>\n",
       "      <td>1</td>\n",
       "      <td>0.02</td>\n",
       "      <td>Soft Drinks</td>\n",
       "      <td>48.27</td>\n",
       "      <td>1.00</td>\n",
       "      <td>Tier 3</td>\n",
       "      <td>Supermarket Type2</td>\n",
       "    </tr>\n",
       "    <tr>\n",
       "      <th>2</th>\n",
       "      <td>17.50</td>\n",
       "      <td>0</td>\n",
       "      <td>0.02</td>\n",
       "      <td>Meat</td>\n",
       "      <td>141.62</td>\n",
       "      <td>1.00</td>\n",
       "      <td>Tier 1</td>\n",
       "      <td>Supermarket Type1</td>\n",
       "    </tr>\n",
       "    <tr>\n",
       "      <th>3</th>\n",
       "      <td>19.20</td>\n",
       "      <td>1</td>\n",
       "      <td>0.00</td>\n",
       "      <td>Fruits and Vegetables</td>\n",
       "      <td>182.09</td>\n",
       "      <td>NaN</td>\n",
       "      <td>Tier 3</td>\n",
       "      <td>Grocery Store</td>\n",
       "    </tr>\n",
       "    <tr>\n",
       "      <th>4</th>\n",
       "      <td>8.93</td>\n",
       "      <td>0</td>\n",
       "      <td>0.00</td>\n",
       "      <td>Household</td>\n",
       "      <td>53.86</td>\n",
       "      <td>2.00</td>\n",
       "      <td>Tier 3</td>\n",
       "      <td>Supermarket Type1</td>\n",
       "    </tr>\n",
       "    <tr>\n",
       "      <th>...</th>\n",
       "      <td>...</td>\n",
       "      <td>...</td>\n",
       "      <td>...</td>\n",
       "      <td>...</td>\n",
       "      <td>...</td>\n",
       "      <td>...</td>\n",
       "      <td>...</td>\n",
       "      <td>...</td>\n",
       "    </tr>\n",
       "    <tr>\n",
       "      <th>8518</th>\n",
       "      <td>6.87</td>\n",
       "      <td>0</td>\n",
       "      <td>0.06</td>\n",
       "      <td>Snack Foods</td>\n",
       "      <td>214.52</td>\n",
       "      <td>2.00</td>\n",
       "      <td>Tier 3</td>\n",
       "      <td>Supermarket Type1</td>\n",
       "    </tr>\n",
       "    <tr>\n",
       "      <th>8519</th>\n",
       "      <td>8.38</td>\n",
       "      <td>1</td>\n",
       "      <td>0.05</td>\n",
       "      <td>Baking Goods</td>\n",
       "      <td>108.16</td>\n",
       "      <td>NaN</td>\n",
       "      <td>Tier 2</td>\n",
       "      <td>Supermarket Type1</td>\n",
       "    </tr>\n",
       "    <tr>\n",
       "      <th>8520</th>\n",
       "      <td>10.60</td>\n",
       "      <td>0</td>\n",
       "      <td>0.04</td>\n",
       "      <td>Health and Hygiene</td>\n",
       "      <td>85.12</td>\n",
       "      <td>0.00</td>\n",
       "      <td>Tier 2</td>\n",
       "      <td>Supermarket Type1</td>\n",
       "    </tr>\n",
       "    <tr>\n",
       "      <th>8521</th>\n",
       "      <td>7.21</td>\n",
       "      <td>1</td>\n",
       "      <td>0.15</td>\n",
       "      <td>Snack Foods</td>\n",
       "      <td>103.13</td>\n",
       "      <td>1.00</td>\n",
       "      <td>Tier 3</td>\n",
       "      <td>Supermarket Type2</td>\n",
       "    </tr>\n",
       "    <tr>\n",
       "      <th>8522</th>\n",
       "      <td>14.80</td>\n",
       "      <td>0</td>\n",
       "      <td>0.04</td>\n",
       "      <td>Soft Drinks</td>\n",
       "      <td>75.47</td>\n",
       "      <td>0.00</td>\n",
       "      <td>Tier 1</td>\n",
       "      <td>Supermarket Type1</td>\n",
       "    </tr>\n",
       "  </tbody>\n",
       "</table>\n",
       "<p>8523 rows × 8 columns</p>\n",
       "</div>"
      ],
      "text/plain": [
       "      Item_Weight  Item_Fat_Content  Item_Visibility              Item_Type  \\\n",
       "0            9.30                 0             0.02                  Dairy   \n",
       "1            5.92                 1             0.02            Soft Drinks   \n",
       "2           17.50                 0             0.02                   Meat   \n",
       "3           19.20                 1             0.00  Fruits and Vegetables   \n",
       "4            8.93                 0             0.00              Household   \n",
       "...           ...               ...              ...                    ...   \n",
       "8518         6.87                 0             0.06            Snack Foods   \n",
       "8519         8.38                 1             0.05           Baking Goods   \n",
       "8520        10.60                 0             0.04     Health and Hygiene   \n",
       "8521         7.21                 1             0.15            Snack Foods   \n",
       "8522        14.80                 0             0.04            Soft Drinks   \n",
       "\n",
       "      Item_MRP  Outlet_Size Outlet_Location_Type        Outlet_Type  \n",
       "0       249.81         1.00               Tier 1  Supermarket Type1  \n",
       "1        48.27         1.00               Tier 3  Supermarket Type2  \n",
       "2       141.62         1.00               Tier 1  Supermarket Type1  \n",
       "3       182.09          NaN               Tier 3      Grocery Store  \n",
       "4        53.86         2.00               Tier 3  Supermarket Type1  \n",
       "...        ...          ...                  ...                ...  \n",
       "8518    214.52         2.00               Tier 3  Supermarket Type1  \n",
       "8519    108.16          NaN               Tier 2  Supermarket Type1  \n",
       "8520     85.12         0.00               Tier 2  Supermarket Type1  \n",
       "8521    103.13         1.00               Tier 3  Supermarket Type2  \n",
       "8522     75.47         0.00               Tier 1  Supermarket Type1  \n",
       "\n",
       "[8523 rows x 8 columns]"
      ]
     },
     "execution_count": 26,
     "metadata": {},
     "output_type": "execute_result"
    }
   ],
   "source": [
    "# -Identify the features (X) and target (y): Assign the \"Item_Outlet_Sales\" column as your target and the rest of the relevant variables as your features matrix.\n",
    "# -Perform a train test split\n",
    "y = df['Item_Outlet_Sales'].copy() \n",
    "X = df.drop(columns=['Item_Outlet_Sales', 'Item_Identifier', 'Outlet_Identifier', 'Outlet_Establishment_Year']).copy() \n",
    "\n",
    "X"
   ]
  },
  {
   "cell_type": "code",
   "execution_count": 27,
   "metadata": {
    "colab": {
     "base_uri": "https://localhost:8080/"
    },
    "id": "qUltHxsKOuka",
    "outputId": "87da0cb8-7ee1-40f8-da81-f81cc59255be"
   },
   "outputs": [
    {
     "data": {
      "text/plain": [
       "1.00    2793\n",
       "0.00    2388\n",
       "2.00     932\n",
       "Name: Outlet_Size, dtype: int64"
      ]
     },
     "execution_count": 27,
     "metadata": {},
     "output_type": "execute_result"
    }
   ],
   "source": [
    "# Get counts\n",
    "df['Outlet_Size'].value_counts()\n",
    "\n",
    "# Ordinal Encoding 'Outlet_Size'\n",
    "replacement_dictionary = {'High':2, 'Medium':1, 'Small':0}\n",
    "df['Outlet_Size'].replace(replacement_dictionary, inplace=True)\n",
    "df['Outlet_Size'].value_counts()"
   ]
  },
  {
   "cell_type": "code",
   "execution_count": 28,
   "metadata": {
    "id": "ctvSyufUOybE"
   },
   "outputs": [],
   "source": [
    "#Ordinal encoding Item_Fat_Content\n",
    "df['Item_Fat_Content'].replace({'low fat':0,'LF':0,'Low Fat':0,'reg':1,'Regular':1},inplace=True)"
   ]
  },
  {
   "cell_type": "code",
   "execution_count": 29,
   "metadata": {
    "id": "qyf4kW4WO3hI"
   },
   "outputs": [],
   "source": [
    "# -Perform a train test split\n",
    "X_train, X_test, y_train, y_test = train_test_split(X, y, random_state=42)\n"
   ]
  },
  {
   "cell_type": "code",
   "execution_count": 30,
   "metadata": {
    "id": "T6cSEHMoO6tB"
   },
   "outputs": [],
   "source": [
    "# Selectors\n",
    "cat_selector = make_column_selector(dtype_include='object')\n",
    "num_selector = make_column_selector(dtype_include='number')\n",
    "\n",
    "train_cat_data = X_train[cat_selector(X_train)]\n",
    "test_cat_data = X_test[cat_selector(X_test)]"
   ]
  },
  {
   "cell_type": "code",
   "execution_count": 31,
   "metadata": {
    "id": "G-wKCv-_PJrP"
   },
   "outputs": [],
   "source": [
    "# Imputers\n",
    "freq_imputer = SimpleImputer(strategy='constant', fill_value='MISSING')\n",
    "mean_imputer = SimpleImputer(strategy='mean')\n",
    "\n",
    "# Scaler\n",
    "scaler = StandardScaler()\n",
    "# One-hot encoder\n",
    "ohe = OneHotEncoder(drop='if_binary', sparse=False)\n"
   ]
  },
  {
   "cell_type": "code",
   "execution_count": 32,
   "metadata": {
    "colab": {
     "base_uri": "https://localhost:8080/",
     "height": 289
    },
    "id": "2-ZnKrmoPPfY",
    "outputId": "62df00f0-6952-4043-fa24-b9cd424be4c5"
   },
   "outputs": [
    {
     "data": {
      "text/html": [
       "<div>\n",
       "<style scoped>\n",
       "    .dataframe tbody tr th:only-of-type {\n",
       "        vertical-align: middle;\n",
       "    }\n",
       "\n",
       "    .dataframe tbody tr th {\n",
       "        vertical-align: top;\n",
       "    }\n",
       "\n",
       "    .dataframe thead th {\n",
       "        text-align: right;\n",
       "    }\n",
       "</style>\n",
       "<table border=\"1\" class=\"dataframe\">\n",
       "  <thead>\n",
       "    <tr style=\"text-align: right;\">\n",
       "      <th></th>\n",
       "      <th>Item_Weight</th>\n",
       "      <th>Item_Fat_Content</th>\n",
       "      <th>Item_Visibility</th>\n",
       "      <th>Item_MRP</th>\n",
       "      <th>Outlet_Size</th>\n",
       "      <th>Item_Type_Baking Goods</th>\n",
       "      <th>Item_Type_Breads</th>\n",
       "      <th>Item_Type_Breakfast</th>\n",
       "      <th>Item_Type_Canned</th>\n",
       "      <th>Item_Type_Dairy</th>\n",
       "      <th>...</th>\n",
       "      <th>Item_Type_Snack Foods</th>\n",
       "      <th>Item_Type_Soft Drinks</th>\n",
       "      <th>Item_Type_Starchy Foods</th>\n",
       "      <th>Outlet_Location_Type_Tier 1</th>\n",
       "      <th>Outlet_Location_Type_Tier 2</th>\n",
       "      <th>Outlet_Location_Type_Tier 3</th>\n",
       "      <th>Outlet_Type_Grocery Store</th>\n",
       "      <th>Outlet_Type_Supermarket Type1</th>\n",
       "      <th>Outlet_Type_Supermarket Type2</th>\n",
       "      <th>Outlet_Type_Supermarket Type3</th>\n",
       "    </tr>\n",
       "  </thead>\n",
       "  <tbody>\n",
       "    <tr>\n",
       "      <th>7503</th>\n",
       "      <td>0.33</td>\n",
       "      <td>-0.74</td>\n",
       "      <td>-0.78</td>\n",
       "      <td>-1.00</td>\n",
       "      <td>2.11</td>\n",
       "      <td>0.00</td>\n",
       "      <td>0.00</td>\n",
       "      <td>0.00</td>\n",
       "      <td>0.00</td>\n",
       "      <td>0.00</td>\n",
       "      <td>...</td>\n",
       "      <td>0.00</td>\n",
       "      <td>0.00</td>\n",
       "      <td>0.00</td>\n",
       "      <td>0.00</td>\n",
       "      <td>0.00</td>\n",
       "      <td>1.00</td>\n",
       "      <td>0.00</td>\n",
       "      <td>1.00</td>\n",
       "      <td>0.00</td>\n",
       "      <td>0.00</td>\n",
       "    </tr>\n",
       "    <tr>\n",
       "      <th>2957</th>\n",
       "      <td>-1.18</td>\n",
       "      <td>-0.74</td>\n",
       "      <td>0.10</td>\n",
       "      <td>-1.59</td>\n",
       "      <td>-1.29</td>\n",
       "      <td>0.00</td>\n",
       "      <td>0.00</td>\n",
       "      <td>0.00</td>\n",
       "      <td>0.00</td>\n",
       "      <td>0.00</td>\n",
       "      <td>...</td>\n",
       "      <td>0.00</td>\n",
       "      <td>0.00</td>\n",
       "      <td>0.00</td>\n",
       "      <td>1.00</td>\n",
       "      <td>0.00</td>\n",
       "      <td>0.00</td>\n",
       "      <td>0.00</td>\n",
       "      <td>1.00</td>\n",
       "      <td>0.00</td>\n",
       "      <td>0.00</td>\n",
       "    </tr>\n",
       "    <tr>\n",
       "      <th>7031</th>\n",
       "      <td>0.38</td>\n",
       "      <td>1.35</td>\n",
       "      <td>-0.48</td>\n",
       "      <td>-1.60</td>\n",
       "      <td>0.41</td>\n",
       "      <td>0.00</td>\n",
       "      <td>0.00</td>\n",
       "      <td>0.00</td>\n",
       "      <td>1.00</td>\n",
       "      <td>0.00</td>\n",
       "      <td>...</td>\n",
       "      <td>0.00</td>\n",
       "      <td>0.00</td>\n",
       "      <td>0.00</td>\n",
       "      <td>1.00</td>\n",
       "      <td>0.00</td>\n",
       "      <td>0.00</td>\n",
       "      <td>0.00</td>\n",
       "      <td>1.00</td>\n",
       "      <td>0.00</td>\n",
       "      <td>0.00</td>\n",
       "    </tr>\n",
       "  </tbody>\n",
       "</table>\n",
       "<p>3 rows × 28 columns</p>\n",
       "</div>"
      ],
      "text/plain": [
       "      Item_Weight  Item_Fat_Content  Item_Visibility  Item_MRP  Outlet_Size  \\\n",
       "7503         0.33             -0.74            -0.78     -1.00         2.11   \n",
       "2957        -1.18             -0.74             0.10     -1.59        -1.29   \n",
       "7031         0.38              1.35            -0.48     -1.60         0.41   \n",
       "\n",
       "      Item_Type_Baking Goods  Item_Type_Breads  Item_Type_Breakfast  \\\n",
       "7503                    0.00              0.00                 0.00   \n",
       "2957                    0.00              0.00                 0.00   \n",
       "7031                    0.00              0.00                 0.00   \n",
       "\n",
       "      Item_Type_Canned  Item_Type_Dairy  ...  Item_Type_Snack Foods  \\\n",
       "7503              0.00             0.00  ...                   0.00   \n",
       "2957              0.00             0.00  ...                   0.00   \n",
       "7031              1.00             0.00  ...                   0.00   \n",
       "\n",
       "      Item_Type_Soft Drinks  Item_Type_Starchy Foods  \\\n",
       "7503                   0.00                     0.00   \n",
       "2957                   0.00                     0.00   \n",
       "7031                   0.00                     0.00   \n",
       "\n",
       "      Outlet_Location_Type_Tier 1  Outlet_Location_Type_Tier 2  \\\n",
       "7503                         0.00                         0.00   \n",
       "2957                         1.00                         0.00   \n",
       "7031                         1.00                         0.00   \n",
       "\n",
       "      Outlet_Location_Type_Tier 3  Outlet_Type_Grocery Store  \\\n",
       "7503                         1.00                       0.00   \n",
       "2957                         0.00                       0.00   \n",
       "7031                         0.00                       0.00   \n",
       "\n",
       "      Outlet_Type_Supermarket Type1  Outlet_Type_Supermarket Type2  \\\n",
       "7503                           1.00                           0.00   \n",
       "2957                           1.00                           0.00   \n",
       "7031                           1.00                           0.00   \n",
       "\n",
       "      Outlet_Type_Supermarket Type3  \n",
       "7503                           0.00  \n",
       "2957                           0.00  \n",
       "7031                           0.00  \n",
       "\n",
       "[3 rows x 28 columns]"
      ]
     },
     "execution_count": 32,
     "metadata": {},
     "output_type": "execute_result"
    }
   ],
   "source": [
    "# Cat and Numeric pipeline\n",
    "numeric_pipe = make_pipeline(mean_imputer, scaler)\n",
    "categorical_pipe = make_pipeline(freq_imputer, ohe)\n",
    "\n",
    "# Tuples for Column Transformer\n",
    "number_tuple = (numeric_pipe, num_selector)\n",
    "category_tuple = (categorical_pipe, cat_selector)\n",
    "# ColumnTransformer\n",
    "preprocessor = make_column_transformer(number_tuple, category_tuple, verbose_feature_names_out=False)\n",
    "\n",
    "# fit on train\n",
    "preprocessor.fit(X_train)\n",
    "\n",
    "## fit column transformer and run get_feature_names_out\n",
    "feature_names = preprocessor.get_feature_names_out()\n",
    "\n",
    "X_train_df = pd.DataFrame(preprocessor.transform(X_train),\n",
    "                           columns = feature_names, index = X_train.index)\n",
    "\n",
    "X_test_df = pd.DataFrame(preprocessor.transform(X_test),\n",
    "                           columns = feature_names, index = X_test.index)\n",
    "\n",
    "X_test_df.head(3)"
   ]
  },
  {
   "cell_type": "markdown",
   "metadata": {},
   "source": [
    "## Re-fitting Linear Regression "
   ]
  },
  {
   "cell_type": "code",
   "execution_count": 33,
   "metadata": {
    "colab": {
     "base_uri": "https://localhost:8080/"
    },
    "id": "8Z1IdGWbPfIa",
    "outputId": "6abcdfd4-3659-479e-8738-01b2c82f9d4d"
   },
   "outputs": [
    {
     "name": "stdout",
     "output_type": "stream",
     "text": [
      "Training Data:\tR^2= 0.56\tRMSE= 1140.39\n",
      "Test Data:\tR^2= 0.57\tRMSE= 1094.59\n"
     ]
    }
   ],
   "source": [
    "# fitting a linear regression model and getting scores\n",
    "lin_reg = LinearRegression()\n",
    "lin_reg.fit(X_train_df, y_train)\n",
    "evaluate_regression(lin_reg, X_train_df, y_train, X_test_df,y_test)\n"
   ]
  },
  {
   "cell_type": "code",
   "execution_count": 34,
   "metadata": {
    "colab": {
     "base_uri": "https://localhost:8080/"
    },
    "id": "Mq5D6gQVQZG2",
    "outputId": "68a924e6-8be8-4a3f-b2ca-4401518d9932"
   },
   "outputs": [
    {
     "data": {
      "text/plain": [
       "Item_Weight                                         -7.38\n",
       "Item_Fat_Content                                    30.20\n",
       "Item_Visibility                                    -21.67\n",
       "Item_MRP                                           984.40\n",
       "Outlet_Size                                          1.24\n",
       "Item_Type_Baking Goods                -479,974,397,694.74\n",
       "Item_Type_Breads                      -479,974,397,724.92\n",
       "Item_Type_Breakfast                   -479,974,397,648.37\n",
       "Item_Type_Canned                      -479,974,397,668.99\n",
       "Item_Type_Dairy                       -479,974,397,801.04\n",
       "Item_Type_Frozen Foods                -479,974,397,697.26\n",
       "Item_Type_Fruits and Vegetables       -479,974,397,651.65\n",
       "Item_Type_Hard Drinks                 -479,974,397,685.31\n",
       "Item_Type_Health and Hygiene          -479,974,397,668.56\n",
       "Item_Type_Household                   -479,974,397,691.78\n",
       "Item_Type_Meat                        -479,974,397,704.62\n",
       "Item_Type_Others                      -479,974,397,726.73\n",
       "Item_Type_Seafood                     -479,974,397,376.87\n",
       "Item_Type_Snack Foods                 -479,974,397,715.76\n",
       "Item_Type_Soft Drinks                 -479,974,397,737.31\n",
       "Item_Type_Starchy Foods               -479,974,397,650.03\n",
       "Outlet_Location_Type_Tier 1        448,813,879,926,738.31\n",
       "Outlet_Location_Type_Tier 2        448,813,879,926,743.62\n",
       "Outlet_Location_Type_Tier 3        448,813,879,926,749.12\n",
       "Outlet_Type_Grocery Store         -275,930,411,443,088.81\n",
       "Outlet_Type_Supermarket Type1     -275,930,411,441,132.31\n",
       "Outlet_Type_Supermarket Type2     -275,930,411,441,452.31\n",
       "Outlet_Type_Supermarket Type3     -275,930,411,439,744.19\n",
       "intercept                         -172,403,494,085,582.78\n",
       "dtype: float64"
      ]
     },
     "execution_count": 34,
     "metadata": {},
     "output_type": "execute_result"
    }
   ],
   "source": [
    "# Saving the coefficients\n",
    "coeffs = pd.Series(lin_reg.coef_, index= feature_names)\n",
    "coeffs['intercept'] = lin_reg.intercept_\n",
    "coeffs"
   ]
  },
  {
   "cell_type": "code",
   "execution_count": 35,
   "metadata": {
    "id": "f2F86STeQbF8"
   },
   "outputs": [],
   "source": [
    "def annotate_hbars(ax, ha='left', va='center', size=12, xytext=(4,0),\n",
    "                  textcoords='offset points'):\n",
    "    for bar in ax.patches:\n",
    "    \n",
    "        ## calculate center of bar\n",
    "        bar_ax = bar.get_y() + bar.get_height() / 2\n",
    "        ## get the value to annotate\n",
    "        val = bar.get_width()\n",
    "        if val < 0:\n",
    "            val_pos = 0\n",
    "        else:\n",
    "            val_pos = val\n",
    "        # ha and va stand for the horizontal and vertical alignment\n",
    "        ax.annotate(f\"{val:.3f}\", (val_pos,bar_ax), ha=ha, va=va, size=size,\n",
    "                        xytext=xytext, textcoords=textcoords)"
   ]
  },
  {
   "cell_type": "code",
   "execution_count": 36,
   "metadata": {
    "id": "1Rn-7zChdl59"
   },
   "outputs": [],
   "source": [
    "def plot_coeffs(coeffs, top_n=None, figsize=(4,5), \n",
    "                intercept=False, intercept_name=\"intercept\", \n",
    "                annotate=False, ha='left', va='center', size=12, \n",
    "                xytext=(4,0), textcoords='offset points'):\n",
    "    \"\"\" Plots the top_n coefficients from a Series, with optional annotations.\n",
    "    \"\"\"\n",
    "    # Drop intercept if intercept=False and \n",
    "    if (intercept == False) & (intercept_name in coeffs.index):\n",
    "        coeffs = coeffs.drop(intercept_name)\n",
    "    if top_n == None:\n",
    "        ## sort all features and set title\n",
    "        plot_vals = coeffs.sort_values()\n",
    "        title = \"All Coefficients - Ranked by Magnitude\"\n",
    "    else:\n",
    "        ## rank the coeffs and select the top_n\n",
    "        coeff_rank = coeffs.abs().rank().sort_values(ascending=False)\n",
    "        top_n_features = coeff_rank.head(top_n)\n",
    "        \n",
    "        ## sort features and keep top_n and set title\n",
    "        plot_vals = coeffs.loc[top_n_features.index].sort_values()\n",
    "        title = f\"Top {top_n} Largest Coefficients\"\n",
    "    ## plotting top N importances\n",
    "    ax = plot_vals.plot(kind='barh', figsize=figsize)\n",
    "    ax.set(xlabel='Coefficient', \n",
    "            ylabel='Feature Names', \n",
    "            title=title)\n",
    "    ax.axvline(0, color='k')\n",
    "    if annotate == True:\n",
    "        annotate_hbars(ax, ha=ha, va=va, size=size, xytext=xytext, textcoords=textcoords)\n",
    "    return ax"
   ]
  },
  {
   "cell_type": "code",
   "execution_count": 37,
   "metadata": {
    "colab": {
     "base_uri": "https://localhost:8080/",
     "height": 488
    },
    "id": "mMNG_JLFdovM",
    "outputId": "123eb5ce-fb82-4805-ec5b-96b8e48d793a"
   },
   "outputs": [
    {
     "data": {
      "image/png": "[encoded data removed]",
      "text/plain": [
       "<Figure size 400x500 with 1 Axes>"
      ]
     },
     "metadata": {},
     "output_type": "display_data"
    }
   ],
   "source": [
    "# Plotting coefficients\n",
    "plot_coeffs(coeffs, top_n=5, annotate=True);"
   ]
  },
  {
   "cell_type": "markdown",
   "metadata": {},
   "source": [
    "# Select the top 3 most impactful features and interpret their coefficients in plain English.\n",
    "- Outlet_Location_Type_Tier 3\n",
    "- Outlet_Location_Type_Tier 2\n",
    "- Outlet_Location_Type_Tier 1\n",
    "\n",
    "In summary, each Outlet_Location_Type from Type 1 to Type 3 basically tells us that the most impactful features are based on location of the outlet stores.\n"
   ]
  },
  {
   "cell_type": "markdown",
   "metadata": {},
   "source": [
    "# Tree-Based Model - Random Forrest\n",
    "\n"
   ]
  },
  {
   "cell_type": "code",
   "execution_count": 38,
   "metadata": {
    "id": "YtZypGUmdrZt"
   },
   "outputs": [
    {
     "name": "stdout",
     "output_type": "stream",
     "text": [
      "Training Data:\tR^2= 0.94\tRMSE= 431.49\n",
      "Test Data:\tR^2= 0.55\tRMSE= 1115.76\n"
     ]
    }
   ],
   "source": [
    "from sklearn.ensemble import RandomForestRegressor\n",
    "rf_reg = RandomForestRegressor(random_state=42)\n",
    "rf_reg.fit(X_train_df,y_train)\n",
    "evaluate_regression(rf_reg, X_train_df, y_train, X_test_df, y_test)"
   ]
  },
  {
   "cell_type": "code",
   "execution_count": 39,
   "metadata": {},
   "outputs": [
    {
     "data": {
      "text/plain": [
       "array([0.05268901, 0.00850767, 0.1061897 , 0.44951524, 0.01873684,\n",
       "       0.00426131, 0.00243845, 0.00264049, 0.00436146, 0.00604823,\n",
       "       0.00570496, 0.00803558, 0.00300951, 0.00397931, 0.006548  ,\n",
       "       0.00352111, 0.0015531 , 0.00168006, 0.00835148, 0.00538201,\n",
       "       0.00337654, 0.00705452, 0.0066731 , 0.00395546, 0.19172982,\n",
       "       0.00324803, 0.00314619, 0.07766281])"
      ]
     },
     "execution_count": 39,
     "metadata": {},
     "output_type": "execute_result"
    }
   ],
   "source": [
    "# Getting feature importance\n",
    "rf_reg.feature_importances_"
   ]
  },
  {
   "cell_type": "code",
   "execution_count": 40,
   "metadata": {},
   "outputs": [
    {
     "name": "stdout",
     "output_type": "stream",
     "text": [
      "28\n",
      "28\n"
     ]
    },
    {
     "data": {
      "text/plain": [
       "True"
      ]
     },
     "execution_count": 40,
     "metadata": {},
     "output_type": "execute_result"
    }
   ],
   "source": [
    "## Checking the number of feature importances matches the # of columns\n",
    "print(len(rf_reg.feature_importances_))\n",
    "print(len(X_train_df.columns))\n",
    "len(rf_reg.feature_importances_) == len(X_train_df.columns)"
   ]
  },
  {
   "cell_type": "code",
   "execution_count": 41,
   "metadata": {},
   "outputs": [],
   "source": [
    "def get_importances(model, feature_names=None,name='Feature Importance',\n",
    "                   sort=False, ascending=True):\n",
    "    \n",
    "    ## checking for feature names\n",
    "    if feature_names == None:\n",
    "        feature_names = model.feature_names_in_\n",
    "        \n",
    "    ## Saving the feature importances\n",
    "    importances = pd.Series(model.feature_importances_, index= feature_names,\n",
    "                           name=name)\n",
    "    \n",
    "    # sort importances\n",
    "    if sort == True:\n",
    "        importances = importances.sort_values(ascending=ascending)\n",
    "        \n",
    "    return importances\n"
   ]
  },
  {
   "cell_type": "code",
   "execution_count": 42,
   "metadata": {},
   "outputs": [
    {
     "data": {
      "text/plain": [
       "Item_MRP                          0.45\n",
       "Outlet_Type_Grocery Store         0.19\n",
       "Item_Visibility                   0.11\n",
       "Outlet_Type_Supermarket Type3     0.08\n",
       "Item_Weight                       0.05\n",
       "Outlet_Size                       0.02\n",
       "Item_Fat_Content                  0.01\n",
       "Item_Type_Snack Foods             0.01\n",
       "Item_Type_Fruits and Vegetables   0.01\n",
       "Outlet_Location_Type_Tier 1       0.01\n",
       "Outlet_Location_Type_Tier 2       0.01\n",
       "Item_Type_Household               0.01\n",
       "Item_Type_Dairy                   0.01\n",
       "Item_Type_Frozen Foods            0.01\n",
       "Item_Type_Soft Drinks             0.01\n",
       "Item_Type_Canned                  0.00\n",
       "Item_Type_Baking Goods            0.00\n",
       "Item_Type_Health and Hygiene      0.00\n",
       "Outlet_Location_Type_Tier 3       0.00\n",
       "Item_Type_Meat                    0.00\n",
       "Item_Type_Starchy Foods           0.00\n",
       "Outlet_Type_Supermarket Type1     0.00\n",
       "Outlet_Type_Supermarket Type2     0.00\n",
       "Item_Type_Hard Drinks             0.00\n",
       "Item_Type_Breakfast               0.00\n",
       "Item_Type_Breads                  0.00\n",
       "Item_Type_Seafood                 0.00\n",
       "Item_Type_Others                  0.00\n",
       "Name: Feature Importance, dtype: float64"
      ]
     },
     "execution_count": 42,
     "metadata": {},
     "output_type": "execute_result"
    }
   ],
   "source": [
    "importances = get_importances(rf_reg,sort=True,ascending=False)\n",
    "importances\n"
   ]
  },
  {
   "cell_type": "code",
   "execution_count": 43,
   "metadata": {},
   "outputs": [
    {
     "data": {
      "text/plain": [
       "0.9999999999999999"
      ]
     },
     "execution_count": 43,
     "metadata": {},
     "output_type": "execute_result"
    }
   ],
   "source": [
    "importances.sum()"
   ]
  },
  {
   "cell_type": "code",
   "execution_count": 44,
   "metadata": {},
   "outputs": [],
   "source": [
    "def plot_importance(importances, top_n=None,  figsize=(8,6)):\n",
    "    # sorting with asc=false for correct order of bars\n",
    "    if top_n==None:\n",
    "        ## sort all features and set title\n",
    "        plot_vals = importances.sort_values()\n",
    "        title = \"All Features - Ranked by Importance\"\n",
    "    else:\n",
    "        ## sort features and keep top_n and set title\n",
    "        plot_vals = importances.sort_values().tail(top_n)\n",
    "        title = f\"Top {top_n} Most Important Features\"\n",
    "    ## plotting top N importances\n",
    "    ax = plot_vals.plot(kind='barh', figsize=figsize)\n",
    "    ax.set(xlabel='Importance',\n",
    "            ylabel='Feature Names',\n",
    "            title=title)\n",
    "    ## return ax in case want to continue to update/modify figure\n",
    "    return ax\n"
   ]
  },
  {
   "cell_type": "code",
   "execution_count": 45,
   "metadata": {},
   "outputs": [],
   "source": [
    "def plot_importance_color(importances, top_n=None,  figsize=(8,6), \n",
    "                          color_dict=None):\n",
    "    \n",
    "    # sorting with asc=false for correct order of bars\n",
    "    if top_n==None:\n",
    "        ## sort all features and set title\n",
    "        plot_vals = importances.sort_values()\n",
    "        title = \"All Features - Ranked by Importance\"\n",
    "    else:\n",
    "        ## sort features and keep top_n and set title\n",
    "        plot_vals = importances.sort_values().tail(top_n)\n",
    "        title = f\"Top {top_n} Most Important Features\"\n",
    "    ## create plot with colors, if provided\n",
    "    if color_dict is not None:\n",
    "        ## Getting color list and saving to plot_kws\n",
    "        colors = plot_vals.index.map(color_dict)\n",
    "        ax = plot_vals.plot(kind='barh', figsize=figsize, color=colors)\n",
    "        \n",
    "    else:\n",
    "        ## create plot without colors, if not provided\n",
    "        ax = plot_vals.plot(kind='barh', figsize=figsize)\n",
    "        \n",
    "    # set titles and axis labels\n",
    "    ax.set(xlabel='Importance', \n",
    "           ylabel='Feature Names', \n",
    "           title=title)\n",
    "    \n",
    "    ## return ax in case want to continue to update/modify figure\n",
    "    return ax"
   ]
  },
  {
   "cell_type": "code",
   "execution_count": 46,
   "metadata": {},
   "outputs": [
    {
     "data": {
      "text/plain": [
       "<AxesSubplot: title={'center': 'Top 5 Most Important Features'}, xlabel='Importance', ylabel='Feature Names'>"
      ]
     },
     "execution_count": 46,
     "metadata": {},
     "output_type": "execute_result"
    },
    {
     "data": {
      "image/png": "[encoded data removed]",
      "text/plain": [
       "<Figure size 800x600 with 1 Axes>"
      ]
     },
     "metadata": {},
     "output_type": "display_data"
    }
   ],
   "source": [
    "## testing our function\n",
    "plot_importance(importances,top_n = 5)"
   ]
  },
  {
   "cell_type": "markdown",
   "metadata": {},
   "source": [
    "# Joblib\n",
    "## Saving"
   ]
  },
  {
   "cell_type": "code",
   "execution_count": 47,
   "metadata": {},
   "outputs": [
    {
     "data": {
      "text/plain": [
       "['Data/random_forest_l01.joblib']"
      ]
     },
     "execution_count": 47,
     "metadata": {},
     "output_type": "execute_result"
    }
   ],
   "source": [
    "## saving variables for next lesson/notebook\n",
    "import joblib\n",
    "## creating a dictionary of all of the variables to save for later\n",
    "export = {'X_train':X_train_df,\n",
    "         'y_train': y_train,\n",
    "         'X_test':X_test_df,\n",
    "          \"y_test\": y_test,\n",
    "          \"LinearRegression\": lin_reg,\n",
    "         'preprocessor':preprocessor,\n",
    "         'RandomForest':rf_reg}\n",
    "joblib.dump(export, 'Data/random_forest_l01.joblib')"
   ]
  },
  {
   "cell_type": "markdown",
   "metadata": {},
   "source": [
    "## Loading"
   ]
  },
  {
   "cell_type": "code",
   "execution_count": 48,
   "metadata": {},
   "outputs": [
    {
     "data": {
      "text/plain": [
       "dict_keys(['X_train', 'y_train', 'X_test', 'y_test', 'LinearRegression', 'preprocessor', 'RandomForest'])"
      ]
     },
     "execution_count": 48,
     "metadata": {},
     "output_type": "execute_result"
    }
   ],
   "source": [
    "loaded = joblib.load('Data/random_forest_l01.joblib')\n",
    "loaded.keys()"
   ]
  },
  {
   "cell_type": "code",
   "execution_count": 49,
   "metadata": {},
   "outputs": [],
   "source": [
    "X_train_df = loaded['X_train']\n",
    "y_train = loaded['y_train']\n",
    "X_test_df = loaded['X_test']\n",
    "y_test = loaded['y_test']\n",
    "preprocessor = loaded['preprocessor']\n",
    "loaded_model = loaded['RandomForest']"
   ]
  },
  {
   "cell_type": "code",
   "execution_count": 50,
   "metadata": {},
   "outputs": [
    {
     "name": "stdout",
     "output_type": "stream",
     "text": [
      "Training Data:\tR^2= 0.94\tRMSE= 431.49\n",
      "Test Data:\tR^2= 0.55\tRMSE= 1115.76\n"
     ]
    },
    {
     "data": {
      "image/png": "[encoded data removed]",
      "text/plain": [
       "<Figure size 800x600 with 1 Axes>"
      ]
     },
     "metadata": {},
     "output_type": "display_data"
    }
   ],
   "source": [
    "evaluate_regression(loaded_model,X_train_df, y_train, X_test_df,y_test)\n",
    "loaded_importances = get_importances(loaded_model)\n",
    "plot_importance_color(loaded_importances,top_n=15,color_dict=None);\n"
   ]
  }
 ],
 "metadata": {
  "colab": {
   "provenance": []
  },
  "kernelspec": {
   "display_name": "Python 3 (ipykernel)",
   "language": "python",
   "name": "python3"
  },
  "language_info": {
   "codemirror_mode": {
    "name": "ipython",
    "version": 3
   },
   "file_extension": ".py",
   "mimetype": "text/x-python",
   "name": "python",
   "nbconvert_exporter": "python",
   "pygments_lexer": "ipython3",
   "version": "3.9.15"
  },
  "toc": {
   "base_numbering": 1,
   "nav_menu": {},
   "number_sections": true,
   "sideBar": true,
   "skip_h1_title": false,
   "title_cell": "Table of Contents",
   "title_sidebar": "Contents",
   "toc_cell": false,
   "toc_position": {},
   "toc_section_display": true,
   "toc_window_display": true
  }
 },
 "nbformat": 4,
 "nbformat_minor": 1
}
